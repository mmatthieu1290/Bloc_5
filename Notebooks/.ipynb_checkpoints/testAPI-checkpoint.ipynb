{
 "cells": [
  {
   "cell_type": "code",
   "execution_count": null,
   "id": "11479b63",
   "metadata": {},
   "outputs": [],
   "source": [
    "import requests\n",
    "import pandas as pd"
   ]
  },
  {
   "cell_type": "code",
   "execution_count": null,
   "id": "b33595ae",
   "metadata": {},
   "outputs": [],
   "source": [
    "df = pd.read_csv('get_around_pricing_project.csv',index_col = 0)"
   ]
  },
  {
   "cell_type": "code",
   "execution_count": null,
   "id": "1017e0b3",
   "metadata": {},
   "outputs": [],
   "source": [
    "for col in df.columns:\n",
    "    \n",
    "    if df[col].dtype == 'int64':\n",
    "      df[col] = df[col].astype(float)\n",
    "    if df[col].dtype == 'bool':\n",
    "      df[col] = df[col].astype(float)  "
   ]
  },
  {
   "cell_type": "markdown",
   "id": "683b2c0a",
   "metadata": {},
   "source": [
    "The columns of the dataframe are as follows."
   ]
  },
  {
   "cell_type": "code",
   "execution_count": null,
   "id": "00ec6256",
   "metadata": {},
   "outputs": [],
   "source": [
    "df.columns"
   ]
  },
  {
   "cell_type": "markdown",
   "id": "492df97e",
   "metadata": {},
   "source": [
    "The unique values of each column are determined for inclusion in the API documentation."
   ]
  },
  {
   "cell_type": "code",
   "execution_count": null,
   "id": "9c2dbf58",
   "metadata": {},
   "outputs": [],
   "source": [
    "df['model_key'].unique()"
   ]
  },
  {
   "cell_type": "code",
   "execution_count": null,
   "id": "70892a53",
   "metadata": {},
   "outputs": [],
   "source": [
    "df['fuel'].unique()"
   ]
  },
  {
   "cell_type": "code",
   "execution_count": null,
   "id": "0af05947",
   "metadata": {},
   "outputs": [],
   "source": [
    "df['paint_color'].unique()"
   ]
  },
  {
   "cell_type": "code",
   "execution_count": null,
   "id": "41fc3ab8",
   "metadata": {},
   "outputs": [],
   "source": [
    "df['car_type'].unique()"
   ]
  },
  {
   "cell_type": "markdown",
   "id": "33359608",
   "metadata": {},
   "source": [
    "We prepare the list of lists to give input to the API."
   ]
  },
  {
   "cell_type": "code",
   "execution_count": null,
   "id": "bbb43d53",
   "metadata": {},
   "outputs": [],
   "source": [
    "import requests\n",
    "\n",
    "input_data_dict = {'model_key': ['Peugeot','Citroën'], 'mileage': ['14000.0',6000.0], \\\n",
    "                   'engine_power': [210,400.1],\n",
    " 'fuel': ['electro','diesel'],'paint_color': ['black','white'],'car_type': ['convertible','sedan'],\n",
    " 'private_parking_available': [1.0,0.0],'has_gps': [1.0,1.0],'has_air_conditioning': [1.0,1.0],\n",
    " 'automatic_car': [1.0,0.0],'has_getaround_connect': [1.0,1.0],'has_speed_regulator': [1.0,'0.0'],\n",
    "'winter_tires': [0.0,0.0]}\n",
    "\n",
    "input_data = []\n",
    "\n",
    "nb_cars = 2\n",
    "\n",
    "for k in range(nb_cars):\n",
    "    input_data.append([data[k] for data in input_data_dict.values()])\n",
    "    \n",
    "input_data    "
   ]
  },
  {
   "cell_type": "markdown",
   "id": "8e666db0",
   "metadata": {},
   "source": [
    "We test if the API can return predictions."
   ]
  },
  {
   "cell_type": "code",
   "execution_count": null,
   "id": "0187c47a",
   "metadata": {},
   "outputs": [],
   "source": [
    "r = requests.post(\"https://my-api-bloc5.herokuapp.com/predict\", \\\n",
    "                  json={\"input\": input_data})\n",
    "print(r.json())"
   ]
  },
  {
   "cell_type": "code",
   "execution_count": null,
   "id": "5770b222",
   "metadata": {},
   "outputs": [],
   "source": []
  }
 ],
 "metadata": {
  "kernelspec": {
   "display_name": "Python 3 (ipykernel)",
   "language": "python",
   "name": "python3"
  },
  "language_info": {
   "codemirror_mode": {
    "name": "ipython",
    "version": 3
   },
   "file_extension": ".py",
   "mimetype": "text/x-python",
   "name": "python",
   "nbconvert_exporter": "python",
   "pygments_lexer": "ipython3",
   "version": "3.9.12"
  }
 },
 "nbformat": 4,
 "nbformat_minor": 5
}
