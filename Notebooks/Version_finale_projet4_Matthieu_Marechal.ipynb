{
 "cells": [
  {
   "cell_type": "code",
   "execution_count": 1,
   "id": "623b443b",
   "metadata": {},
   "outputs": [],
   "source": [
    "import pandas as pd\n",
    "import pickle\n",
    "from sklearn.linear_model import LinearRegression\n",
    "import numpy as np\n",
    "import sqlite3"
   ]
  },
  {
   "cell_type": "markdown",
   "id": "a6d24d49",
   "metadata": {},
   "source": [
    "We load the dataset."
   ]
  },
  {
   "cell_type": "code",
   "execution_count": 2,
   "id": "eb258e63",
   "metadata": {},
   "outputs": [],
   "source": [
    "delay = pd.read_excel('get_around_delay_analysis.xlsx')\n",
    "delay = delay.rename(columns = {'delay_at_checkout_in_minutes':'delay_at_checkout'\n",
    "                    ,'time_delta_with_previous_rental_in_minutes':'time_delta_with_previous_rental'})"
   ]
  },
  {
   "cell_type": "code",
   "execution_count": 3,
   "id": "4426e8b4",
   "metadata": {},
   "outputs": [
    {
     "data": {
      "text/html": [
       "<div>\n",
       "<style scoped>\n",
       "    .dataframe tbody tr th:only-of-type {\n",
       "        vertical-align: middle;\n",
       "    }\n",
       "\n",
       "    .dataframe tbody tr th {\n",
       "        vertical-align: top;\n",
       "    }\n",
       "\n",
       "    .dataframe thead th {\n",
       "        text-align: right;\n",
       "    }\n",
       "</style>\n",
       "<table border=\"1\" class=\"dataframe\">\n",
       "  <thead>\n",
       "    <tr style=\"text-align: right;\">\n",
       "      <th></th>\n",
       "      <th>rental_id</th>\n",
       "      <th>car_id</th>\n",
       "      <th>checkin_type</th>\n",
       "      <th>state</th>\n",
       "      <th>delay_at_checkout</th>\n",
       "      <th>previous_ended_rental_id</th>\n",
       "      <th>time_delta_with_previous_rental</th>\n",
       "    </tr>\n",
       "  </thead>\n",
       "  <tbody>\n",
       "    <tr>\n",
       "      <th>0</th>\n",
       "      <td>505000.0</td>\n",
       "      <td>363965.0</td>\n",
       "      <td>mobile</td>\n",
       "      <td>canceled</td>\n",
       "      <td>NaN</td>\n",
       "      <td>NaN</td>\n",
       "      <td>NaN</td>\n",
       "    </tr>\n",
       "    <tr>\n",
       "      <th>1</th>\n",
       "      <td>507750.0</td>\n",
       "      <td>269550.0</td>\n",
       "      <td>mobile</td>\n",
       "      <td>ended</td>\n",
       "      <td>-81.0</td>\n",
       "      <td>NaN</td>\n",
       "      <td>NaN</td>\n",
       "    </tr>\n",
       "    <tr>\n",
       "      <th>2</th>\n",
       "      <td>508131.0</td>\n",
       "      <td>359049.0</td>\n",
       "      <td>connect</td>\n",
       "      <td>ended</td>\n",
       "      <td>70.0</td>\n",
       "      <td>NaN</td>\n",
       "      <td>NaN</td>\n",
       "    </tr>\n",
       "    <tr>\n",
       "      <th>3</th>\n",
       "      <td>508865.0</td>\n",
       "      <td>299063.0</td>\n",
       "      <td>connect</td>\n",
       "      <td>canceled</td>\n",
       "      <td>NaN</td>\n",
       "      <td>NaN</td>\n",
       "      <td>NaN</td>\n",
       "    </tr>\n",
       "    <tr>\n",
       "      <th>4</th>\n",
       "      <td>511440.0</td>\n",
       "      <td>313932.0</td>\n",
       "      <td>mobile</td>\n",
       "      <td>ended</td>\n",
       "      <td>NaN</td>\n",
       "      <td>NaN</td>\n",
       "      <td>NaN</td>\n",
       "    </tr>\n",
       "  </tbody>\n",
       "</table>\n",
       "</div>"
      ],
      "text/plain": [
       "   rental_id    car_id checkin_type     state  delay_at_checkout  \\\n",
       "0   505000.0  363965.0       mobile  canceled                NaN   \n",
       "1   507750.0  269550.0       mobile     ended              -81.0   \n",
       "2   508131.0  359049.0      connect     ended               70.0   \n",
       "3   508865.0  299063.0      connect  canceled                NaN   \n",
       "4   511440.0  313932.0       mobile     ended                NaN   \n",
       "\n",
       "   previous_ended_rental_id  time_delta_with_previous_rental  \n",
       "0                       NaN                              NaN  \n",
       "1                       NaN                              NaN  \n",
       "2                       NaN                              NaN  \n",
       "3                       NaN                              NaN  \n",
       "4                       NaN                              NaN  "
      ]
     },
     "execution_count": 3,
     "metadata": {},
     "output_type": "execute_result"
    }
   ],
   "source": [
    "delay.head()"
   ]
  },
  {
   "cell_type": "code",
   "execution_count": 4,
   "id": "ebf0d883",
   "metadata": {},
   "outputs": [
    {
     "data": {
      "text/plain": [
       "(21310, 7)"
      ]
     },
     "execution_count": 4,
     "metadata": {},
     "output_type": "execute_result"
    }
   ],
   "source": [
    "delay.shape"
   ]
  },
  {
   "cell_type": "markdown",
   "id": "7d655365",
   "metadata": {},
   "source": [
    "We connect to a database."
   ]
  },
  {
   "cell_type": "code",
   "execution_count": 5,
   "id": "13b2cdc0",
   "metadata": {},
   "outputs": [],
   "source": [
    "connexion = sqlite3.connect('db_deployment.db')"
   ]
  },
  {
   "cell_type": "markdown",
   "id": "75fa9954",
   "metadata": {},
   "source": [
    "We create a table that contains 10% of the dataset to the database."
   ]
  },
  {
   "cell_type": "code",
   "execution_count": 6,
   "id": "0fa5778a",
   "metadata": {},
   "outputs": [
    {
     "data": {
      "text/plain": [
       "2131"
      ]
     },
     "execution_count": 6,
     "metadata": {},
     "output_type": "execute_result"
    }
   ],
   "source": [
    "delay.sample(len(delay)//10).to_sql('lines_of_dataset',\\\n",
    "            con = connexion , if_exists = 'replace',index = False)"
   ]
  },
  {
   "cell_type": "markdown",
   "id": "b8e3fb21",
   "metadata": {},
   "source": [
    "We create a table that contains the proportion of missing values per column."
   ]
  },
  {
   "cell_type": "code",
   "execution_count": 7,
   "id": "6a72ca30",
   "metadata": {},
   "outputs": [
    {
     "data": {
      "text/plain": [
       "7"
      ]
     },
     "execution_count": 7,
     "metadata": {},
     "output_type": "execute_result"
    }
   ],
   "source": [
    "pd.DataFrame(delay.isnull().mean()).reset_index().rename(columns = {0:'Missing values'})\\\n",
    ".to_sql('missing_values',\\\n",
    "            con = connexion , if_exists = 'replace',index = False)"
   ]
  },
  {
   "cell_type": "code",
   "execution_count": 8,
   "id": "f87f81e9",
   "metadata": {},
   "outputs": [
    {
     "data": {
      "text/plain": [
       "rental_id                          0.000000\n",
       "car_id                             0.000000\n",
       "checkin_type                       0.000000\n",
       "state                              0.000000\n",
       "delay_at_checkout                  0.232942\n",
       "previous_ended_rental_id           0.913609\n",
       "time_delta_with_previous_rental    0.913609\n",
       "dtype: float64"
      ]
     },
     "execution_count": 8,
     "metadata": {},
     "output_type": "execute_result"
    }
   ],
   "source": [
    "delay.isnull().mean()"
   ]
  },
  {
   "cell_type": "markdown",
   "id": "c98f3628",
   "metadata": {},
   "source": [
    "The last two columns have many missing values."
   ]
  },
  {
   "cell_type": "markdown",
   "id": "713db60d",
   "metadata": {},
   "source": [
    "We analyze the proportion of delays on the checkout according to the type of checkin."
   ]
  },
  {
   "cell_type": "code",
   "execution_count": 9,
   "id": "f582c31f",
   "metadata": {},
   "outputs": [
    {
     "data": {
      "text/plain": [
       "checkin_type\n",
       "connect     34.356261\n",
       "mobile     137.574706\n",
       "Name: delay_at_checkout, dtype: float64"
      ]
     },
     "execution_count": 9,
     "metadata": {},
     "output_type": "execute_result"
    }
   ],
   "source": [
    "new_delay = delay.copy()\n",
    "\n",
    "new_delay['delay_at_checkout'] = new_delay['delay_at_checkout'].apply(lambda x : np.max([x,0]))\n",
    "\n",
    "new_delay.groupby('checkin_type')['delay_at_checkout'].mean()"
   ]
  },
  {
   "cell_type": "markdown",
   "id": "476c28aa",
   "metadata": {},
   "source": [
    "The delay is much less important when checkin is done with connect. We create a new table that contains the average checkout delay based on checkin type."
   ]
  },
  {
   "cell_type": "code",
   "execution_count": 10,
   "id": "513269ea",
   "metadata": {},
   "outputs": [
    {
     "data": {
      "text/plain": [
       "2"
      ]
     },
     "execution_count": 10,
     "metadata": {},
     "output_type": "execute_result"
    }
   ],
   "source": [
    "pd.DataFrame(new_delay.groupby('checkin_type')['delay_at_checkout'].mean()).reset_index().to_sql(\\\n",
    "           'mean_late_vs_checkin_type',\\\n",
    "            con = connexion , if_exists = 'replace',index = False)"
   ]
  },
  {
   "cell_type": "code",
   "execution_count": 11,
   "id": "f91aaafd",
   "metadata": {},
   "outputs": [
    {
     "data": {
      "text/html": [
       "<div>\n",
       "<style scoped>\n",
       "    .dataframe tbody tr th:only-of-type {\n",
       "        vertical-align: middle;\n",
       "    }\n",
       "\n",
       "    .dataframe tbody tr th {\n",
       "        vertical-align: top;\n",
       "    }\n",
       "\n",
       "    .dataframe thead th {\n",
       "        text-align: right;\n",
       "    }\n",
       "</style>\n",
       "<table border=\"1\" class=\"dataframe\">\n",
       "  <thead>\n",
       "    <tr style=\"text-align: right;\">\n",
       "      <th></th>\n",
       "      <th>delay_at_checkout</th>\n",
       "    </tr>\n",
       "    <tr>\n",
       "      <th>checkin_type</th>\n",
       "      <th></th>\n",
       "    </tr>\n",
       "  </thead>\n",
       "  <tbody>\n",
       "    <tr>\n",
       "      <th>connect</th>\n",
       "      <td>34.356261</td>\n",
       "    </tr>\n",
       "    <tr>\n",
       "      <th>mobile</th>\n",
       "      <td>137.574706</td>\n",
       "    </tr>\n",
       "  </tbody>\n",
       "</table>\n",
       "</div>"
      ],
      "text/plain": [
       "              delay_at_checkout\n",
       "checkin_type                   \n",
       "connect               34.356261\n",
       "mobile               137.574706"
      ]
     },
     "execution_count": 11,
     "metadata": {},
     "output_type": "execute_result"
    }
   ],
   "source": [
    "pd.read_sql_query('select * from mean_late_vs_checkin_type' \\\n",
    "    , con = connexion,index_col = 'checkin_type')"
   ]
  },
  {
   "cell_type": "markdown",
   "id": "3dd0d0cf",
   "metadata": {},
   "source": [
    "We study the proportion of late checkouts according to the type of checkin."
   ]
  },
  {
   "cell_type": "code",
   "execution_count": 12,
   "id": "b6736351",
   "metadata": {},
   "outputs": [],
   "source": [
    "delay_mobile = delay[delay.checkin_type == 'mobile']\n",
    "delay_connect = delay[delay.checkin_type == 'connect']"
   ]
  },
  {
   "cell_type": "code",
   "execution_count": 13,
   "id": "de8862a2",
   "metadata": {},
   "outputs": [],
   "source": [
    "at_time = [           (delay_mobile['delay_at_checkout']<=0).sum()+\\\n",
    "          delay_mobile['delay_at_checkout'].isnull().sum(),    \n",
    "    (delay_connect['delay_at_checkout']<=0).sum()+\\\n",
    "          delay_connect['delay_at_checkout'].isnull().sum()\n",
    "]\n",
    "\n",
    "late = [(delay_mobile['delay_at_checkout']>0).sum(),\\\n",
    "        (delay_connect['delay_at_checkout']>0).sum()         \n",
    "]"
   ]
  },
  {
   "cell_type": "code",
   "execution_count": 15,
   "id": "a067e848",
   "metadata": {},
   "outputs": [
    {
     "data": {
      "image/png": "[encoded data removed]",
      "text/plain": [
       "<Figure size 432x288 with 1 Axes>"
      ]
     },
     "metadata": {},
     "output_type": "display_data"
    }
   ],
   "source": [
    "import matplotlib.pyplot as plt\n",
    "\n",
    "labels = ['At time', 'Late']\n",
    "sizes = [np.sum(at_time),np.sum(late)]\n",
    "colors = ['blue', 'red']\n",
    "\n",
    "plt.pie(sizes, labels=labels, colors=colors, \n",
    "        autopct='%1.1f%%', shadow=False, startangle=90)\n",
    "\n",
    "plt.axis('equal')\n",
    "\n",
    "plt.title(\"Checkout at time or late.\")\n",
    "plt.show()"
   ]
  },
  {
   "cell_type": "code",
   "execution_count": 17,
   "id": "31b3fd3d",
   "metadata": {},
   "outputs": [
    {
     "data": {
      "image/png": "[encoded data removed]",
      "text/plain": [
       "<Figure size 864x576 with 1 Axes>"
      ]
     },
     "metadata": {
      "needs_background": "light"
     },
     "output_type": "display_data"
    }
   ],
   "source": [
    "barWidth = 0.05\n",
    "fig = plt.subplots(figsize =(12, 8))\n",
    "\n",
    " \n",
    "# set height of bar\n",
    "\n",
    "\n",
    "# Set position of bar on X axis\n",
    "br1 = 0.3*np.arange(len(at_time))\n",
    "br2 = [x + barWidth for x in br1]\n",
    " \n",
    "# Make the plot\n",
    "plt.bar(br1, at_time, color ='b', width = barWidth,\n",
    "        edgecolor ='grey', label ='At time')\n",
    "plt.bar(br2, late, color ='r', width = barWidth,\n",
    "        edgecolor ='grey', label ='Late')\n",
    " \n",
    "# Adding Xticks\n",
    "plt.xlabel('Checkin_type', fontweight ='bold', fontsize = 15)\n",
    "#plt.ylabel('', fontweight ='bold', fontsize = 15)\n",
    "plt.xticks([0.3*(r + barWidth) for r in range(len(at_time))],\n",
    "        ['Mobile','Connect'])\n",
    "\n",
    "percent_at_time_mobile = 100*at_time[0]/(at_time[0]+late[0])\n",
    "\n",
    "percent_late_mobile = 100 - percent_at_time_mobile\n",
    "\n",
    "mobile_percent = [f'{round(percent_at_time_mobile,2)}%',\\\n",
    "                  f'{round(percent_late_mobile,2)}%']\n",
    "\n",
    "percent_at_time_connect = 100*at_time[1]/(at_time[1]+late[1])\n",
    "\n",
    "percent_late_connect = 100 - percent_at_time_connect\n",
    "\n",
    "connect_percent = [f'{round(percent_at_time_connect,2)}%',\\\n",
    "                   f'{round(percent_late_connect,2)}%']\n",
    "\n",
    "plt.text(x = -barWidth/5 , y = at_time[0]/2,s = mobile_percent[0])\n",
    "plt.text(x = barWidth/1.2 , y = late[0]/2,s = mobile_percent[1])\n",
    "\n",
    "plt.text(x = 0.3-barWidth/5 , y = at_time[1]/2,s = connect_percent[0])\n",
    "plt.text(x = 0.3+barWidth/1.2 , y = late[1]/2,s = connect_percent[1])\n",
    "\n",
    "plt.title(\"Checkout at time or late depending on checkin type.\")\n",
    " \n",
    "plt.legend()\n",
    "plt.show()"
   ]
  },
  {
   "cell_type": "markdown",
   "id": "74e746a4",
   "metadata": {},
   "source": [
    "We create a table that contains the proportion of late checkouts according to the type of checkin."
   ]
  },
  {
   "cell_type": "code",
   "execution_count": 18,
   "id": "377846d0",
   "metadata": {},
   "outputs": [
    {
     "data": {
      "text/plain": [
       "2"
      ]
     },
     "execution_count": 18,
     "metadata": {},
     "output_type": "execute_result"
    }
   ],
   "source": [
    "pd.DataFrame({'Mobile' : [at_time[0],late[0]],'Connect' : [at_time[1],late[1]]} , \\\n",
    "            index = ['at_time','late']).reset_index().to_sql('at_time_late_vs_checkin_type',\\\n",
    "            con = connexion , if_exists = 'replace',index = False)"
   ]
  },
  {
   "cell_type": "markdown",
   "id": "dc1d1984",
   "metadata": {},
   "source": [
    "The following function is used to calculate the delay in the checkout of the previous rental."
   ]
  },
  {
   "cell_type": "code",
   "execution_count": 19,
   "id": "08624423",
   "metadata": {},
   "outputs": [],
   "source": [
    "import numpy as np\n",
    "\n",
    "def delay_checkout(x):\n",
    "    \n",
    "   try: \n",
    "    return float(delay[delay['rental_id'] == x].iloc[0]['delay_at_checkout'])\n",
    "   except IndexError:\n",
    "        return np.nan"
   ]
  },
  {
   "cell_type": "markdown",
   "id": "aa3115bd",
   "metadata": {},
   "source": [
    "We create an additional column that indicates the delay, if any, of the return of the previous rental."
   ]
  },
  {
   "cell_type": "code",
   "execution_count": 21,
   "id": "ad4a7878",
   "metadata": {},
   "outputs": [
    {
     "data": {
      "text/html": [
       "<div>\n",
       "<style scoped>\n",
       "    .dataframe tbody tr th:only-of-type {\n",
       "        vertical-align: middle;\n",
       "    }\n",
       "\n",
       "    .dataframe tbody tr th {\n",
       "        vertical-align: top;\n",
       "    }\n",
       "\n",
       "    .dataframe thead th {\n",
       "        text-align: right;\n",
       "    }\n",
       "</style>\n",
       "<table border=\"1\" class=\"dataframe\">\n",
       "  <thead>\n",
       "    <tr style=\"text-align: right;\">\n",
       "      <th></th>\n",
       "      <th>rental_id</th>\n",
       "      <th>car_id</th>\n",
       "      <th>checkin_type</th>\n",
       "      <th>state</th>\n",
       "      <th>delay_at_checkout</th>\n",
       "      <th>previous_ended_rental_id</th>\n",
       "      <th>time_delta_with_previous_rental</th>\n",
       "      <th>delay_checkout_previous_rental</th>\n",
       "    </tr>\n",
       "  </thead>\n",
       "  <tbody>\n",
       "    <tr>\n",
       "      <th>0</th>\n",
       "      <td>505000.0</td>\n",
       "      <td>363965.0</td>\n",
       "      <td>mobile</td>\n",
       "      <td>canceled</td>\n",
       "      <td>NaN</td>\n",
       "      <td>NaN</td>\n",
       "      <td>NaN</td>\n",
       "      <td>NaN</td>\n",
       "    </tr>\n",
       "    <tr>\n",
       "      <th>1</th>\n",
       "      <td>507750.0</td>\n",
       "      <td>269550.0</td>\n",
       "      <td>mobile</td>\n",
       "      <td>ended</td>\n",
       "      <td>-81.0</td>\n",
       "      <td>NaN</td>\n",
       "      <td>NaN</td>\n",
       "      <td>NaN</td>\n",
       "    </tr>\n",
       "    <tr>\n",
       "      <th>2</th>\n",
       "      <td>508131.0</td>\n",
       "      <td>359049.0</td>\n",
       "      <td>connect</td>\n",
       "      <td>ended</td>\n",
       "      <td>70.0</td>\n",
       "      <td>NaN</td>\n",
       "      <td>NaN</td>\n",
       "      <td>NaN</td>\n",
       "    </tr>\n",
       "    <tr>\n",
       "      <th>3</th>\n",
       "      <td>508865.0</td>\n",
       "      <td>299063.0</td>\n",
       "      <td>connect</td>\n",
       "      <td>canceled</td>\n",
       "      <td>NaN</td>\n",
       "      <td>NaN</td>\n",
       "      <td>NaN</td>\n",
       "      <td>NaN</td>\n",
       "    </tr>\n",
       "    <tr>\n",
       "      <th>4</th>\n",
       "      <td>511440.0</td>\n",
       "      <td>313932.0</td>\n",
       "      <td>mobile</td>\n",
       "      <td>ended</td>\n",
       "      <td>NaN</td>\n",
       "      <td>NaN</td>\n",
       "      <td>NaN</td>\n",
       "      <td>NaN</td>\n",
       "    </tr>\n",
       "  </tbody>\n",
       "</table>\n",
       "</div>"
      ],
      "text/plain": [
       "   rental_id    car_id checkin_type     state  delay_at_checkout  \\\n",
       "0   505000.0  363965.0       mobile  canceled                NaN   \n",
       "1   507750.0  269550.0       mobile     ended              -81.0   \n",
       "2   508131.0  359049.0      connect     ended               70.0   \n",
       "3   508865.0  299063.0      connect  canceled                NaN   \n",
       "4   511440.0  313932.0       mobile     ended                NaN   \n",
       "\n",
       "   previous_ended_rental_id  time_delta_with_previous_rental  \\\n",
       "0                       NaN                              NaN   \n",
       "1                       NaN                              NaN   \n",
       "2                       NaN                              NaN   \n",
       "3                       NaN                              NaN   \n",
       "4                       NaN                              NaN   \n",
       "\n",
       "   delay_checkout_previous_rental  \n",
       "0                             NaN  \n",
       "1                             NaN  \n",
       "2                             NaN  \n",
       "3                             NaN  \n",
       "4                             NaN  "
      ]
     },
     "execution_count": 21,
     "metadata": {},
     "output_type": "execute_result"
    }
   ],
   "source": [
    "delay['delay_checkout_previous_rental'] = delay['previous_ended_rental_id'].apply(delay_checkout)\n",
    "\n",
    "\n",
    "delay.head()"
   ]
  },
  {
   "cell_type": "code",
   "execution_count": 22,
   "id": "bdb76e89",
   "metadata": {},
   "outputs": [
    {
     "data": {
      "text/plain": [
       "state\n",
       "canceled   -42.019417\n",
       "ended      -22.427446\n",
       "Name: delay_checkout_previous_rental, dtype: float64"
      ]
     },
     "execution_count": 22,
     "metadata": {},
     "output_type": "execute_result"
    }
   ],
   "source": [
    "delay.groupby('state')['delay_checkout_previous_rental'].mean()"
   ]
  },
  {
   "cell_type": "code",
   "execution_count": 23,
   "id": "80f90b37",
   "metadata": {},
   "outputs": [
    {
     "data": {
      "text/plain": [
       "checkin_type\n",
       "connect   -73.403287\n",
       "mobile     16.256930\n",
       "Name: delay_checkout_previous_rental, dtype: float64"
      ]
     },
     "execution_count": 23,
     "metadata": {},
     "output_type": "execute_result"
    }
   ],
   "source": [
    "delay.groupby('checkin_type')['delay_checkout_previous_rental'].mean()"
   ]
  },
  {
   "cell_type": "code",
   "execution_count": 24,
   "id": "612d6b4c",
   "metadata": {},
   "outputs": [
    {
     "data": {
      "text/plain": [
       "59.70151719075003"
      ]
     },
     "execution_count": 24,
     "metadata": {},
     "output_type": "execute_result"
    }
   ],
   "source": [
    "delay['delay_at_checkout'].mean()"
   ]
  },
  {
   "cell_type": "code",
   "execution_count": 25,
   "id": "377b164b",
   "metadata": {},
   "outputs": [
    {
     "data": {
      "text/plain": [
       "rental_id                          0.000000\n",
       "car_id                             0.000000\n",
       "checkin_type                       0.000000\n",
       "state                              0.000000\n",
       "delay_at_checkout                  0.999694\n",
       "previous_ended_rental_id           0.929862\n",
       "time_delta_with_previous_rental    0.929862\n",
       "delay_checkout_previous_rental     0.936907\n",
       "dtype: float64"
      ]
     },
     "execution_count": 25,
     "metadata": {},
     "output_type": "execute_result"
    }
   ],
   "source": [
    "delay[delay.state == 'canceled'].isnull().mean()"
   ]
  },
  {
   "cell_type": "code",
   "execution_count": 26,
   "id": "57f5a1ce",
   "metadata": {},
   "outputs": [
    {
     "data": {
      "text/plain": [
       "0.9155998891659739"
      ]
     },
     "execution_count": 26,
     "metadata": {},
     "output_type": "execute_result"
    }
   ],
   "source": [
    "delay[delay.state != 'canceled'].iloc[:,-1].isnull().mean()"
   ]
  },
  {
   "cell_type": "code",
   "execution_count": 27,
   "id": "14c799a1",
   "metadata": {},
   "outputs": [
    {
     "data": {
      "text/plain": [
       "ended       1612\n",
       "canceled     229\n",
       "Name: state, dtype: int64"
      ]
     },
     "execution_count": 27,
     "metadata": {},
     "output_type": "execute_result"
    }
   ],
   "source": [
    "delay[(delay['previous_ended_rental_id'].isnull() == False)]['state'].value_counts()"
   ]
  },
  {
   "cell_type": "markdown",
   "id": "3a73284e",
   "metadata": {},
   "source": [
    "We only consider rentals that have not been cancelled."
   ]
  },
  {
   "cell_type": "code",
   "execution_count": 28,
   "id": "90514468",
   "metadata": {},
   "outputs": [],
   "source": [
    "delay = delay[delay.state != 'canceled']"
   ]
  },
  {
   "cell_type": "markdown",
   "id": "89b786b7",
   "metadata": {},
   "source": [
    "Missing values are eliminated."
   ]
  },
  {
   "cell_type": "code",
   "execution_count": 29,
   "id": "8828d2d1",
   "metadata": {},
   "outputs": [
    {
     "data": {
      "text/html": [
       "<div>\n",
       "<style scoped>\n",
       "    .dataframe tbody tr th:only-of-type {\n",
       "        vertical-align: middle;\n",
       "    }\n",
       "\n",
       "    .dataframe tbody tr th {\n",
       "        vertical-align: top;\n",
       "    }\n",
       "\n",
       "    .dataframe thead th {\n",
       "        text-align: right;\n",
       "    }\n",
       "</style>\n",
       "<table border=\"1\" class=\"dataframe\">\n",
       "  <thead>\n",
       "    <tr style=\"text-align: right;\">\n",
       "      <th></th>\n",
       "      <th>rental_id</th>\n",
       "      <th>car_id</th>\n",
       "      <th>checkin_type</th>\n",
       "      <th>state</th>\n",
       "      <th>delay_at_checkout</th>\n",
       "      <th>previous_ended_rental_id</th>\n",
       "      <th>time_delta_with_previous_rental</th>\n",
       "      <th>delay_checkout_previous_rental</th>\n",
       "    </tr>\n",
       "  </thead>\n",
       "  <tbody>\n",
       "    <tr>\n",
       "      <th>6</th>\n",
       "      <td>511639.0</td>\n",
       "      <td>370585.0</td>\n",
       "      <td>connect</td>\n",
       "      <td>ended</td>\n",
       "      <td>-15.0</td>\n",
       "      <td>563782.0</td>\n",
       "      <td>570.0</td>\n",
       "      <td>136.0</td>\n",
       "    </tr>\n",
       "    <tr>\n",
       "      <th>19</th>\n",
       "      <td>519491.0</td>\n",
       "      <td>312389.0</td>\n",
       "      <td>mobile</td>\n",
       "      <td>ended</td>\n",
       "      <td>58.0</td>\n",
       "      <td>545639.0</td>\n",
       "      <td>420.0</td>\n",
       "      <td>140.0</td>\n",
       "    </tr>\n",
       "    <tr>\n",
       "      <th>34</th>\n",
       "      <td>525044.0</td>\n",
       "      <td>349751.0</td>\n",
       "      <td>mobile</td>\n",
       "      <td>ended</td>\n",
       "      <td>NaN</td>\n",
       "      <td>510607.0</td>\n",
       "      <td>60.0</td>\n",
       "      <td>-113.0</td>\n",
       "    </tr>\n",
       "    <tr>\n",
       "      <th>40</th>\n",
       "      <td>528808.0</td>\n",
       "      <td>181625.0</td>\n",
       "      <td>connect</td>\n",
       "      <td>ended</td>\n",
       "      <td>-76.0</td>\n",
       "      <td>557404.0</td>\n",
       "      <td>330.0</td>\n",
       "      <td>-352.0</td>\n",
       "    </tr>\n",
       "    <tr>\n",
       "      <th>64</th>\n",
       "      <td>533670.0</td>\n",
       "      <td>320824.0</td>\n",
       "      <td>connect</td>\n",
       "      <td>ended</td>\n",
       "      <td>-6.0</td>\n",
       "      <td>556563.0</td>\n",
       "      <td>630.0</td>\n",
       "      <td>23.0</td>\n",
       "    </tr>\n",
       "  </tbody>\n",
       "</table>\n",
       "</div>"
      ],
      "text/plain": [
       "    rental_id    car_id checkin_type  state  delay_at_checkout  \\\n",
       "6    511639.0  370585.0      connect  ended              -15.0   \n",
       "19   519491.0  312389.0       mobile  ended               58.0   \n",
       "34   525044.0  349751.0       mobile  ended                NaN   \n",
       "40   528808.0  181625.0      connect  ended              -76.0   \n",
       "64   533670.0  320824.0      connect  ended               -6.0   \n",
       "\n",
       "    previous_ended_rental_id  time_delta_with_previous_rental  \\\n",
       "6                   563782.0                            570.0   \n",
       "19                  545639.0                            420.0   \n",
       "34                  510607.0                             60.0   \n",
       "40                  557404.0                            330.0   \n",
       "64                  556563.0                            630.0   \n",
       "\n",
       "    delay_checkout_previous_rental  \n",
       "6                            136.0  \n",
       "19                           140.0  \n",
       "34                          -113.0  \n",
       "40                          -352.0  \n",
       "64                            23.0  "
      ]
     },
     "execution_count": 29,
     "metadata": {},
     "output_type": "execute_result"
    }
   ],
   "source": [
    "delay = delay[delay['time_delta_with_previous_rental'].isnull() == False]\n",
    "\n",
    "delay = delay[delay['delay_checkout_previous_rental'].isnull() == False]\n",
    "\n",
    "delay.head()"
   ]
  },
  {
   "cell_type": "markdown",
   "id": "9278dd2b",
   "metadata": {},
   "source": [
    "We create a function that calculates the average time lost rental based on the minimum threshold between two consecutive rentals."
   ]
  },
  {
   "cell_type": "code",
   "execution_count": 30,
   "id": "c39d14c8",
   "metadata": {},
   "outputs": [],
   "source": [
    "time_delta_with_previous_rental = np.array(delay['time_delta_with_previous_rental']).reshape((-1,1))\n",
    "\n",
    "s = time_delta_with_previous_rental.shape\n",
    "\n",
    "time_lossed  = lambda  threshold: np.max([threshold*np.ones(s) - time_delta_with_previous_rental,np.zeros(s)],axis = 0).mean()"
   ]
  },
  {
   "cell_type": "code",
   "execution_count": 31,
   "id": "94262675",
   "metadata": {},
   "outputs": [],
   "source": [
    "import seaborn as sns"
   ]
  },
  {
   "cell_type": "code",
   "execution_count": 32,
   "id": "3d43dde8",
   "metadata": {},
   "outputs": [],
   "source": [
    "thresholds = np.linspace(0,700,40000)\n",
    "\n",
    "losses = []\n",
    "\n",
    "for threshold in thresholds:\n",
    "    \n",
    "    losses.append(time_lossed(threshold))\n",
    "    \n",
    "losses = np.array(losses)    \n",
    "    \n",
    "df_losses = pd.DataFrame({'thresholds' : thresholds , 'losses' : losses})    "
   ]
  },
  {
   "cell_type": "code",
   "execution_count": 33,
   "id": "8b9d70e0",
   "metadata": {},
   "outputs": [
    {
     "data": {
      "image/png": "[encoded data removed]",
      "text/plain": [
       "<Figure size 360x360 with 1 Axes>"
      ]
     },
     "metadata": {
      "needs_background": "light"
     },
     "output_type": "display_data"
    }
   ],
   "source": [
    "sns.lmplot(x = 'thresholds' , y = 'losses' , data = df_losses);"
   ]
  },
  {
   "cell_type": "markdown",
   "id": "7d04a70d",
   "metadata": {},
   "source": [
    "We realize that a quadratic regression is more sensible than a linear regression."
   ]
  },
  {
   "cell_type": "code",
   "execution_count": 34,
   "id": "ef9505bc",
   "metadata": {},
   "outputs": [
    {
     "data": {
      "text/html": [
       "<div>\n",
       "<style scoped>\n",
       "    .dataframe tbody tr th:only-of-type {\n",
       "        vertical-align: middle;\n",
       "    }\n",
       "\n",
       "    .dataframe tbody tr th {\n",
       "        vertical-align: top;\n",
       "    }\n",
       "\n",
       "    .dataframe thead th {\n",
       "        text-align: right;\n",
       "    }\n",
       "</style>\n",
       "<table border=\"1\" class=\"dataframe\">\n",
       "  <thead>\n",
       "    <tr style=\"text-align: right;\">\n",
       "      <th></th>\n",
       "      <th>thresholds</th>\n",
       "      <th>losses</th>\n",
       "    </tr>\n",
       "  </thead>\n",
       "  <tbody>\n",
       "    <tr>\n",
       "      <th>thresholds</th>\n",
       "      <td>1.00000</td>\n",
       "      <td>0.99298</td>\n",
       "    </tr>\n",
       "    <tr>\n",
       "      <th>losses</th>\n",
       "      <td>0.99298</td>\n",
       "      <td>1.00000</td>\n",
       "    </tr>\n",
       "  </tbody>\n",
       "</table>\n",
       "</div>"
      ],
      "text/plain": [
       "            thresholds   losses\n",
       "thresholds     1.00000  0.99298\n",
       "losses         0.99298  1.00000"
      ]
     },
     "execution_count": 34,
     "metadata": {},
     "output_type": "execute_result"
    }
   ],
   "source": [
    "df_losses.corr()"
   ]
  },
  {
   "cell_type": "code",
   "execution_count": 35,
   "id": "df096c6b",
   "metadata": {},
   "outputs": [],
   "source": [
    "from sklearn.linear_model import LinearRegression\n",
    "\n",
    "LR = LinearRegression()"
   ]
  },
  {
   "cell_type": "code",
   "execution_count": 36,
   "id": "54d6e1f7",
   "metadata": {},
   "outputs": [],
   "source": [
    "thresholds = thresholds.reshape((-1,1))"
   ]
  },
  {
   "cell_type": "code",
   "execution_count": 37,
   "id": "0bccb0ea",
   "metadata": {},
   "outputs": [],
   "source": [
    "thresholds_square = np.concatenate([thresholds,thresholds**2],axis = 1)"
   ]
  },
  {
   "cell_type": "code",
   "execution_count": 38,
   "id": "86d26b16",
   "metadata": {},
   "outputs": [
    {
     "data": {
      "text/html": [
       "<style>#sk-container-id-1 {color: black;background-color: white;}#sk-container-id-1 pre{padding: 0;}#sk-container-id-1 div.sk-toggleable {background-color: white;}#sk-container-id-1 label.sk-toggleable__label {cursor: pointer;display: block;width: 100%;margin-bottom: 0;padding: 0.3em;box-sizing: border-box;text-align: center;}#sk-container-id-1 label.sk-toggleable__label-arrow:before {content: \"▸\";float: left;margin-right: 0.25em;color: #696969;}#sk-container-id-1 label.sk-toggleable__label-arrow:hover:before {color: black;}#sk-container-id-1 div.sk-estimator:hover label.sk-toggleable__label-arrow:before {color: black;}#sk-container-id-1 div.sk-toggleable__content {max-height: 0;max-width: 0;overflow: hidden;text-align: left;background-color: #f0f8ff;}#sk-container-id-1 div.sk-toggleable__content pre {margin: 0.2em;color: black;border-radius: 0.25em;background-color: #f0f8ff;}#sk-container-id-1 input.sk-toggleable__control:checked~div.sk-toggleable__content {max-height: 200px;max-width: 100%;overflow: auto;}#sk-container-id-1 input.sk-toggleable__control:checked~label.sk-toggleable__label-arrow:before {content: \"▾\";}#sk-container-id-1 div.sk-estimator input.sk-toggleable__control:checked~label.sk-toggleable__label {background-color: #d4ebff;}#sk-container-id-1 div.sk-label input.sk-toggleable__control:checked~label.sk-toggleable__label {background-color: #d4ebff;}#sk-container-id-1 input.sk-hidden--visually {border: 0;clip: rect(1px 1px 1px 1px);clip: rect(1px, 1px, 1px, 1px);height: 1px;margin: -1px;overflow: hidden;padding: 0;position: absolute;width: 1px;}#sk-container-id-1 div.sk-estimator {font-family: monospace;background-color: #f0f8ff;border: 1px dotted black;border-radius: 0.25em;box-sizing: border-box;margin-bottom: 0.5em;}#sk-container-id-1 div.sk-estimator:hover {background-color: #d4ebff;}#sk-container-id-1 div.sk-parallel-item::after {content: \"\";width: 100%;border-bottom: 1px solid gray;flex-grow: 1;}#sk-container-id-1 div.sk-label:hover label.sk-toggleable__label {background-color: #d4ebff;}#sk-container-id-1 div.sk-serial::before {content: \"\";position: absolute;border-left: 1px solid gray;box-sizing: border-box;top: 0;bottom: 0;left: 50%;z-index: 0;}#sk-container-id-1 div.sk-serial {display: flex;flex-direction: column;align-items: center;background-color: white;padding-right: 0.2em;padding-left: 0.2em;position: relative;}#sk-container-id-1 div.sk-item {position: relative;z-index: 1;}#sk-container-id-1 div.sk-parallel {display: flex;align-items: stretch;justify-content: center;background-color: white;position: relative;}#sk-container-id-1 div.sk-item::before, #sk-container-id-1 div.sk-parallel-item::before {content: \"\";position: absolute;border-left: 1px solid gray;box-sizing: border-box;top: 0;bottom: 0;left: 50%;z-index: -1;}#sk-container-id-1 div.sk-parallel-item {display: flex;flex-direction: column;z-index: 1;position: relative;background-color: white;}#sk-container-id-1 div.sk-parallel-item:first-child::after {align-self: flex-end;width: 50%;}#sk-container-id-1 div.sk-parallel-item:last-child::after {align-self: flex-start;width: 50%;}#sk-container-id-1 div.sk-parallel-item:only-child::after {width: 0;}#sk-container-id-1 div.sk-dashed-wrapped {border: 1px dashed gray;margin: 0 0.4em 0.5em 0.4em;box-sizing: border-box;padding-bottom: 0.4em;background-color: white;}#sk-container-id-1 div.sk-label label {font-family: monospace;font-weight: bold;display: inline-block;line-height: 1.2em;}#sk-container-id-1 div.sk-label-container {text-align: center;}#sk-container-id-1 div.sk-container {/* jupyter's `normalize.less` sets `[hidden] { display: none; }` but bootstrap.min.css set `[hidden] { display: none !important; }` so we also need the `!important` here to be able to override the default hidden behavior on the sphinx rendered scikit-learn.org. See: https://github.com/scikit-learn/scikit-learn/issues/21755 */display: inline-block !important;position: relative;}#sk-container-id-1 div.sk-text-repr-fallback {display: none;}</style><div id=\"sk-container-id-1\" class=\"sk-top-container\"><div class=\"sk-text-repr-fallback\"><pre>LinearRegression()</pre><b>In a Jupyter environment, please rerun this cell to show the HTML representation or trust the notebook. <br />On GitHub, the HTML representation is unable to render, please try loading this page with nbviewer.org.</b></div><div class=\"sk-container\" hidden><div class=\"sk-item\"><div class=\"sk-estimator sk-toggleable\"><input class=\"sk-toggleable__control sk-hidden--visually\" id=\"sk-estimator-id-1\" type=\"checkbox\" checked><label for=\"sk-estimator-id-1\" class=\"sk-toggleable__label sk-toggleable__label-arrow\">LinearRegression</label><div class=\"sk-toggleable__content\"><pre>LinearRegression()</pre></div></div></div></div></div>"
      ],
      "text/plain": [
       "LinearRegression()"
      ]
     },
     "execution_count": 38,
     "metadata": {},
     "output_type": "execute_result"
    }
   ],
   "source": [
    "LR.fit(thresholds_square , losses.reshape((-1,1)))"
   ]
  },
  {
   "cell_type": "code",
   "execution_count": 39,
   "id": "98fd183b",
   "metadata": {},
   "outputs": [],
   "source": [
    "predictions = LR.predict(thresholds_square)"
   ]
  },
  {
   "cell_type": "code",
   "execution_count": 40,
   "id": "90908a07",
   "metadata": {},
   "outputs": [],
   "source": [
    "import matplotlib.pyplot as plt"
   ]
  },
  {
   "cell_type": "code",
   "execution_count": 41,
   "id": "54fdde73",
   "metadata": {},
   "outputs": [
    {
     "data": {
      "image/png": "[encoded data removed]",
      "text/plain": [
       "<Figure size 432x288 with 1 Axes>"
      ]
     },
     "metadata": {
      "needs_background": "light"
     },
     "output_type": "display_data"
    }
   ],
   "source": [
    "plt.plot(thresholds,losses,label = \"true data\")\n",
    "\n",
    "plt.plot(thresholds,predictions,c = 'r', label = \"quadratic regression\")\n",
    "\n",
    "LR_without_square = LinearRegression()\n",
    "\n",
    "LR_without_square.fit(thresholds.reshape((-1,1)),losses.reshape((-1,1)))\n",
    "\n",
    "predictions_without_square = LR_without_square.predict(thresholds.reshape((-1,1)))\n",
    "\n",
    "plt.plot(thresholds,predictions_without_square,c = 'g', label = \"linear regression\")\n",
    "\n",
    "plt.legend()\n",
    "\n",
    "plt.xlabel(\"thresholds\")\n",
    "\n",
    "plt.ylabel(\"losses\")\n",
    "\n",
    "#plt.plot(thresholds,predictions)\n",
    "plt.show()"
   ]
  },
  {
   "cell_type": "markdown",
   "id": "cb682c9b",
   "metadata": {},
   "source": [
    "It is clear that quadratic regression is more accurate than linear regression."
   ]
  },
  {
   "cell_type": "code",
   "execution_count": 42,
   "id": "33232c3f",
   "metadata": {},
   "outputs": [],
   "source": [
    "import pickle"
   ]
  },
  {
   "cell_type": "markdown",
   "id": "41697860",
   "metadata": {},
   "source": [
    "Quadratic regression is exported."
   ]
  },
  {
   "cell_type": "code",
   "execution_count": 63,
   "id": "ccaf9216",
   "metadata": {},
   "outputs": [],
   "source": [
    "with open('time_losse.pkl','wb') as lr_model_time_losse:\n",
    "    pickle.dump(LR,lr_model_time_losse)"
   ]
  },
  {
   "cell_type": "markdown",
   "id": "c6eeaced",
   "metadata": {},
   "source": [
    "The missing values on the column that indicates the delay of the previous rental are eliminated."
   ]
  },
  {
   "cell_type": "code",
   "execution_count": 64,
   "id": "ab1f5297",
   "metadata": {},
   "outputs": [
    {
     "data": {
      "text/html": [
       "<div>\n",
       "<style scoped>\n",
       "    .dataframe tbody tr th:only-of-type {\n",
       "        vertical-align: middle;\n",
       "    }\n",
       "\n",
       "    .dataframe tbody tr th {\n",
       "        vertical-align: top;\n",
       "    }\n",
       "\n",
       "    .dataframe thead th {\n",
       "        text-align: right;\n",
       "    }\n",
       "</style>\n",
       "<table border=\"1\" class=\"dataframe\">\n",
       "  <thead>\n",
       "    <tr style=\"text-align: right;\">\n",
       "      <th></th>\n",
       "      <th>rental_id</th>\n",
       "      <th>car_id</th>\n",
       "      <th>checkin_type</th>\n",
       "      <th>state</th>\n",
       "      <th>delay_at_checkout</th>\n",
       "      <th>previous_ended_rental_id</th>\n",
       "      <th>time_delta_with_previous_rental</th>\n",
       "      <th>delay_checkout_previous_rental</th>\n",
       "    </tr>\n",
       "  </thead>\n",
       "  <tbody>\n",
       "    <tr>\n",
       "      <th>6</th>\n",
       "      <td>511639.0</td>\n",
       "      <td>370585.0</td>\n",
       "      <td>connect</td>\n",
       "      <td>ended</td>\n",
       "      <td>-15.0</td>\n",
       "      <td>563782.0</td>\n",
       "      <td>570.0</td>\n",
       "      <td>136.0</td>\n",
       "    </tr>\n",
       "    <tr>\n",
       "      <th>19</th>\n",
       "      <td>519491.0</td>\n",
       "      <td>312389.0</td>\n",
       "      <td>mobile</td>\n",
       "      <td>ended</td>\n",
       "      <td>58.0</td>\n",
       "      <td>545639.0</td>\n",
       "      <td>420.0</td>\n",
       "      <td>140.0</td>\n",
       "    </tr>\n",
       "    <tr>\n",
       "      <th>34</th>\n",
       "      <td>525044.0</td>\n",
       "      <td>349751.0</td>\n",
       "      <td>mobile</td>\n",
       "      <td>ended</td>\n",
       "      <td>NaN</td>\n",
       "      <td>510607.0</td>\n",
       "      <td>60.0</td>\n",
       "      <td>-113.0</td>\n",
       "    </tr>\n",
       "    <tr>\n",
       "      <th>40</th>\n",
       "      <td>528808.0</td>\n",
       "      <td>181625.0</td>\n",
       "      <td>connect</td>\n",
       "      <td>ended</td>\n",
       "      <td>-76.0</td>\n",
       "      <td>557404.0</td>\n",
       "      <td>330.0</td>\n",
       "      <td>-352.0</td>\n",
       "    </tr>\n",
       "    <tr>\n",
       "      <th>64</th>\n",
       "      <td>533670.0</td>\n",
       "      <td>320824.0</td>\n",
       "      <td>connect</td>\n",
       "      <td>ended</td>\n",
       "      <td>-6.0</td>\n",
       "      <td>556563.0</td>\n",
       "      <td>630.0</td>\n",
       "      <td>23.0</td>\n",
       "    </tr>\n",
       "  </tbody>\n",
       "</table>\n",
       "</div>"
      ],
      "text/plain": [
       "    rental_id    car_id checkin_type  state  delay_at_checkout  \\\n",
       "6    511639.0  370585.0      connect  ended              -15.0   \n",
       "19   519491.0  312389.0       mobile  ended               58.0   \n",
       "34   525044.0  349751.0       mobile  ended                NaN   \n",
       "40   528808.0  181625.0      connect  ended              -76.0   \n",
       "64   533670.0  320824.0      connect  ended               -6.0   \n",
       "\n",
       "    previous_ended_rental_id  time_delta_with_previous_rental  \\\n",
       "6                   563782.0                            570.0   \n",
       "19                  545639.0                            420.0   \n",
       "34                  510607.0                             60.0   \n",
       "40                  557404.0                            330.0   \n",
       "64                  556563.0                            630.0   \n",
       "\n",
       "    delay_checkout_previous_rental  \n",
       "6                            136.0  \n",
       "19                           140.0  \n",
       "34                          -113.0  \n",
       "40                          -352.0  \n",
       "64                            23.0  "
      ]
     },
     "execution_count": 64,
     "metadata": {},
     "output_type": "execute_result"
    }
   ],
   "source": [
    "delay2 = delay[delay['delay_checkout_previous_rental'].isnull() == False]\n",
    "\n",
    "delay2.head()"
   ]
  },
  {
   "cell_type": "code",
   "execution_count": 65,
   "id": "e199fcc7",
   "metadata": {},
   "outputs": [],
   "source": [
    "delay_checkout_previous_rental = np.array(delay['delay_checkout_previous_rental']).reshape((-1,1))\n",
    "\n"
   ]
  },
  {
   "cell_type": "code",
   "execution_count": 66,
   "id": "04f3fd02",
   "metadata": {},
   "outputs": [],
   "source": [
    "s2 = time_delta_with_previous_rental.shape\n",
    "\n",
    "problems_fun = lambda threshold : (np.max([threshold*np.ones(s),time_delta_with_previous_rental],axis = 0)<delay_checkout_previous_rental).mean()"
   ]
  },
  {
   "cell_type": "markdown",
   "id": "62184b88",
   "metadata": {},
   "source": [
    "This function calculates the average rental rate whose delay time is greater than the time lapse between the two rentals based on the minimum threshold between two rentals."
   ]
  },
  {
   "cell_type": "code",
   "execution_count": 67,
   "id": "4e43e080",
   "metadata": {},
   "outputs": [],
   "source": [
    "thresholds = np.linspace(0,700,40000)\n",
    "\n",
    "problems = []\n",
    "\n",
    "for threshold in thresholds:\n",
    "    \n",
    "    problems.append(problems_fun(threshold))\n",
    "    \n",
    "problems = np.array(problems)    \n",
    "    \n",
    "df_problems = pd.DataFrame({'thresholds' : thresholds , 'problems' : problems})"
   ]
  },
  {
   "cell_type": "code",
   "execution_count": 68,
   "id": "e1ff5d16",
   "metadata": {},
   "outputs": [
    {
     "data": {
      "image/png": "[encoded data removed]",
      "text/plain": [
       "<Figure size 360x360 with 1 Axes>"
      ]
     },
     "metadata": {
      "needs_background": "light"
     },
     "output_type": "display_data"
    }
   ],
   "source": [
    "sns.lmplot(x = 'thresholds' , y = 'problems' , data = df_problems);"
   ]
  },
  {
   "cell_type": "code",
   "execution_count": 69,
   "id": "837fc31f",
   "metadata": {},
   "outputs": [],
   "source": [
    "thresholds = np.linspace(0,700,40000)\n",
    "\n",
    "problems = []\n",
    "\n",
    "for threshold in thresholds:\n",
    "    \n",
    "    problems.append(problems_fun(threshold))\n",
    "    \n",
    "problems = np.array(problems)    \n",
    "    \n",
    "df_problems2 = pd.DataFrame({'thresholds' : thresholds , 'problems' : 1/(problems)})    "
   ]
  },
  {
   "cell_type": "code",
   "execution_count": 70,
   "id": "7def9aaf",
   "metadata": {},
   "outputs": [
    {
     "data": {
      "text/plain": [
       "<seaborn.axisgrid.FacetGrid at 0x2022ee27d90>"
      ]
     },
     "execution_count": 70,
     "metadata": {},
     "output_type": "execute_result"
    },
    {
     "data": {
      "image/png": "[encoded data removed]",
      "text/plain": [
       "<Figure size 360x360 with 1 Axes>"
      ]
     },
     "metadata": {
      "needs_background": "light"
     },
     "output_type": "display_data"
    }
   ],
   "source": [
    "sns.lmplot(x = 'thresholds' , y = 'problems' , data = df_problems2)"
   ]
  },
  {
   "cell_type": "markdown",
   "id": "cc645d5b",
   "metadata": {},
   "source": [
    "Making a regression on the reversal of the number of problems is more sensible."
   ]
  },
  {
   "cell_type": "code",
   "execution_count": 71,
   "id": "6e5f59ab",
   "metadata": {},
   "outputs": [
    {
     "data": {
      "text/html": [
       "<div>\n",
       "<style scoped>\n",
       "    .dataframe tbody tr th:only-of-type {\n",
       "        vertical-align: middle;\n",
       "    }\n",
       "\n",
       "    .dataframe tbody tr th {\n",
       "        vertical-align: top;\n",
       "    }\n",
       "\n",
       "    .dataframe thead th {\n",
       "        text-align: right;\n",
       "    }\n",
       "</style>\n",
       "<table border=\"1\" class=\"dataframe\">\n",
       "  <thead>\n",
       "    <tr style=\"text-align: right;\">\n",
       "      <th></th>\n",
       "      <th>thresholds</th>\n",
       "      <th>problems</th>\n",
       "    </tr>\n",
       "  </thead>\n",
       "  <tbody>\n",
       "    <tr>\n",
       "      <th>thresholds</th>\n",
       "      <td>1.00000</td>\n",
       "      <td>-0.77302</td>\n",
       "    </tr>\n",
       "    <tr>\n",
       "      <th>problems</th>\n",
       "      <td>-0.77302</td>\n",
       "      <td>1.00000</td>\n",
       "    </tr>\n",
       "  </tbody>\n",
       "</table>\n",
       "</div>"
      ],
      "text/plain": [
       "            thresholds  problems\n",
       "thresholds     1.00000  -0.77302\n",
       "problems      -0.77302   1.00000"
      ]
     },
     "execution_count": 71,
     "metadata": {},
     "output_type": "execute_result"
    }
   ],
   "source": [
    "df_problems.corr()"
   ]
  },
  {
   "cell_type": "code",
   "execution_count": 72,
   "id": "18fd92ce",
   "metadata": {},
   "outputs": [
    {
     "data": {
      "text/html": [
       "<div>\n",
       "<style scoped>\n",
       "    .dataframe tbody tr th:only-of-type {\n",
       "        vertical-align: middle;\n",
       "    }\n",
       "\n",
       "    .dataframe tbody tr th {\n",
       "        vertical-align: top;\n",
       "    }\n",
       "\n",
       "    .dataframe thead th {\n",
       "        text-align: right;\n",
       "    }\n",
       "</style>\n",
       "<table border=\"1\" class=\"dataframe\">\n",
       "  <thead>\n",
       "    <tr style=\"text-align: right;\">\n",
       "      <th></th>\n",
       "      <th>thresholds</th>\n",
       "      <th>problems</th>\n",
       "    </tr>\n",
       "  </thead>\n",
       "  <tbody>\n",
       "    <tr>\n",
       "      <th>thresholds</th>\n",
       "      <td>1.000000</td>\n",
       "      <td>0.987739</td>\n",
       "    </tr>\n",
       "    <tr>\n",
       "      <th>problems</th>\n",
       "      <td>0.987739</td>\n",
       "      <td>1.000000</td>\n",
       "    </tr>\n",
       "  </tbody>\n",
       "</table>\n",
       "</div>"
      ],
      "text/plain": [
       "            thresholds  problems\n",
       "thresholds    1.000000  0.987739\n",
       "problems      0.987739  1.000000"
      ]
     },
     "execution_count": 72,
     "metadata": {},
     "output_type": "execute_result"
    }
   ],
   "source": [
    "df_problems2.corr()"
   ]
  },
  {
   "cell_type": "code",
   "execution_count": 73,
   "id": "7e90107b",
   "metadata": {},
   "outputs": [],
   "source": [
    "LR2 = LinearRegression()"
   ]
  },
  {
   "cell_type": "code",
   "execution_count": 74,
   "id": "b4f6630b",
   "metadata": {},
   "outputs": [
    {
     "data": {
      "text/html": [
       "<style>#sk-container-id-3 {color: black;background-color: white;}#sk-container-id-3 pre{padding: 0;}#sk-container-id-3 div.sk-toggleable {background-color: white;}#sk-container-id-3 label.sk-toggleable__label {cursor: pointer;display: block;width: 100%;margin-bottom: 0;padding: 0.3em;box-sizing: border-box;text-align: center;}#sk-container-id-3 label.sk-toggleable__label-arrow:before {content: \"▸\";float: left;margin-right: 0.25em;color: #696969;}#sk-container-id-3 label.sk-toggleable__label-arrow:hover:before {color: black;}#sk-container-id-3 div.sk-estimator:hover label.sk-toggleable__label-arrow:before {color: black;}#sk-container-id-3 div.sk-toggleable__content {max-height: 0;max-width: 0;overflow: hidden;text-align: left;background-color: #f0f8ff;}#sk-container-id-3 div.sk-toggleable__content pre {margin: 0.2em;color: black;border-radius: 0.25em;background-color: #f0f8ff;}#sk-container-id-3 input.sk-toggleable__control:checked~div.sk-toggleable__content {max-height: 200px;max-width: 100%;overflow: auto;}#sk-container-id-3 input.sk-toggleable__control:checked~label.sk-toggleable__label-arrow:before {content: \"▾\";}#sk-container-id-3 div.sk-estimator input.sk-toggleable__control:checked~label.sk-toggleable__label {background-color: #d4ebff;}#sk-container-id-3 div.sk-label input.sk-toggleable__control:checked~label.sk-toggleable__label {background-color: #d4ebff;}#sk-container-id-3 input.sk-hidden--visually {border: 0;clip: rect(1px 1px 1px 1px);clip: rect(1px, 1px, 1px, 1px);height: 1px;margin: -1px;overflow: hidden;padding: 0;position: absolute;width: 1px;}#sk-container-id-3 div.sk-estimator {font-family: monospace;background-color: #f0f8ff;border: 1px dotted black;border-radius: 0.25em;box-sizing: border-box;margin-bottom: 0.5em;}#sk-container-id-3 div.sk-estimator:hover {background-color: #d4ebff;}#sk-container-id-3 div.sk-parallel-item::after {content: \"\";width: 100%;border-bottom: 1px solid gray;flex-grow: 1;}#sk-container-id-3 div.sk-label:hover label.sk-toggleable__label {background-color: #d4ebff;}#sk-container-id-3 div.sk-serial::before {content: \"\";position: absolute;border-left: 1px solid gray;box-sizing: border-box;top: 0;bottom: 0;left: 50%;z-index: 0;}#sk-container-id-3 div.sk-serial {display: flex;flex-direction: column;align-items: center;background-color: white;padding-right: 0.2em;padding-left: 0.2em;position: relative;}#sk-container-id-3 div.sk-item {position: relative;z-index: 1;}#sk-container-id-3 div.sk-parallel {display: flex;align-items: stretch;justify-content: center;background-color: white;position: relative;}#sk-container-id-3 div.sk-item::before, #sk-container-id-3 div.sk-parallel-item::before {content: \"\";position: absolute;border-left: 1px solid gray;box-sizing: border-box;top: 0;bottom: 0;left: 50%;z-index: -1;}#sk-container-id-3 div.sk-parallel-item {display: flex;flex-direction: column;z-index: 1;position: relative;background-color: white;}#sk-container-id-3 div.sk-parallel-item:first-child::after {align-self: flex-end;width: 50%;}#sk-container-id-3 div.sk-parallel-item:last-child::after {align-self: flex-start;width: 50%;}#sk-container-id-3 div.sk-parallel-item:only-child::after {width: 0;}#sk-container-id-3 div.sk-dashed-wrapped {border: 1px dashed gray;margin: 0 0.4em 0.5em 0.4em;box-sizing: border-box;padding-bottom: 0.4em;background-color: white;}#sk-container-id-3 div.sk-label label {font-family: monospace;font-weight: bold;display: inline-block;line-height: 1.2em;}#sk-container-id-3 div.sk-label-container {text-align: center;}#sk-container-id-3 div.sk-container {/* jupyter's `normalize.less` sets `[hidden] { display: none; }` but bootstrap.min.css set `[hidden] { display: none !important; }` so we also need the `!important` here to be able to override the default hidden behavior on the sphinx rendered scikit-learn.org. See: https://github.com/scikit-learn/scikit-learn/issues/21755 */display: inline-block !important;position: relative;}#sk-container-id-3 div.sk-text-repr-fallback {display: none;}</style><div id=\"sk-container-id-3\" class=\"sk-top-container\"><div class=\"sk-text-repr-fallback\"><pre>LinearRegression()</pre><b>In a Jupyter environment, please rerun this cell to show the HTML representation or trust the notebook. <br />On GitHub, the HTML representation is unable to render, please try loading this page with nbviewer.org.</b></div><div class=\"sk-container\" hidden><div class=\"sk-item\"><div class=\"sk-estimator sk-toggleable\"><input class=\"sk-toggleable__control sk-hidden--visually\" id=\"sk-estimator-id-3\" type=\"checkbox\" checked><label for=\"sk-estimator-id-3\" class=\"sk-toggleable__label sk-toggleable__label-arrow\">LinearRegression</label><div class=\"sk-toggleable__content\"><pre>LinearRegression()</pre></div></div></div></div></div>"
      ],
      "text/plain": [
       "LinearRegression()"
      ]
     },
     "execution_count": 74,
     "metadata": {},
     "output_type": "execute_result"
    }
   ],
   "source": [
    "LR2.fit(thresholds.reshape((-1,1)) ,(1/problems).reshape((-1,1)))"
   ]
  },
  {
   "cell_type": "code",
   "execution_count": 75,
   "id": "c3eb05ac",
   "metadata": {},
   "outputs": [
    {
     "data": {
      "text/plain": [
       "[<matplotlib.lines.Line2D at 0x2022e9a8520>]"
      ]
     },
     "execution_count": 75,
     "metadata": {},
     "output_type": "execute_result"
    },
    {
     "data": {
      "image/png": "[encoded data removed]",
      "text/plain": [
       "<Figure size 432x288 with 1 Axes>"
      ]
     },
     "metadata": {
      "needs_background": "light"
     },
     "output_type": "display_data"
    }
   ],
   "source": [
    "y_pred = LR2.predict(thresholds.reshape((-1,1)))\n",
    "\n",
    "plt.plot(thresholds,problems)\n",
    "\n",
    "plt.plot(thresholds,1/y_pred,c='r')"
   ]
  },
  {
   "cell_type": "code",
   "execution_count": 76,
   "id": "e1931a9b",
   "metadata": {},
   "outputs": [
    {
     "data": {
      "text/plain": [
       "0.11884438608010506"
      ]
     },
     "execution_count": 76,
     "metadata": {},
     "output_type": "execute_result"
    }
   ],
   "source": [
    "problems[0]"
   ]
  },
  {
   "cell_type": "markdown",
   "id": "e1327694",
   "metadata": {},
   "source": [
    "We are trying to improve the approximation."
   ]
  },
  {
   "cell_type": "code",
   "execution_count": 57,
   "id": "5b6c69ab",
   "metadata": {},
   "outputs": [
    {
     "data": {
      "text/plain": [
       "[<matplotlib.lines.Line2D at 0x2022d4bbbb0>]"
      ]
     },
     "execution_count": 57,
     "metadata": {},
     "output_type": "execute_result"
    },
    {
     "data": {
      "image/png": "[encoded data removed]",
      "text/plain": [
       "<Figure size 432x288 with 1 Axes>"
      ]
     },
     "metadata": {
      "needs_background": "light"
     },
     "output_type": "display_data"
    }
   ],
   "source": [
    "plt.plot(thresholds,problems)\n",
    "\n",
    "plt.plot(thresholds,np.min([1/y_pred,0.12*np.ones(y_pred.shape)],axis =0),c='r')"
   ]
  },
  {
   "cell_type": "markdown",
   "id": "82dd536a",
   "metadata": {},
   "source": [
    "Instead of approximating by a horizontal segment, an oblique segment is preferred."
   ]
  },
  {
   "cell_type": "code",
   "execution_count": 77,
   "id": "abfccb5c",
   "metadata": {},
   "outputs": [
    {
     "data": {
      "text/plain": [
       "-0.0011021301642832053"
      ]
     },
     "execution_count": 77,
     "metadata": {},
     "output_type": "execute_result"
    }
   ],
   "source": [
    "list_test = []\n",
    "for y_pred_1,problem in zip(1/y_pred,problems):\n",
    "    list_test.append(y_pred_1<problem)\n",
    "    \n",
    "idx_change = np.array(list_test).argmax()\n",
    "\n",
    "slope = (problems[idx_change] - problems[0])/(thresholds[idx_change] - thresholds[0])\n",
    "\n",
    "slope"
   ]
  },
  {
   "cell_type": "code",
   "execution_count": 78,
   "id": "303e792f",
   "metadata": {},
   "outputs": [
    {
     "data": {
      "image/png": "[encoded data removed]",
      "text/plain": [
       "<Figure size 432x288 with 1 Axes>"
      ]
     },
     "metadata": {
      "needs_background": "light"
     },
     "output_type": "display_data"
    }
   ],
   "source": [
    "plt.plot(thresholds,problems)\n",
    "\n",
    "plt.plot(thresholds[:idx_change],problems[0]+slope*thresholds[:idx_change],c = 'r')\n",
    "         \n",
    "plt.plot(thresholds[idx_change:],(1/y_pred)[idx_change:],c='r')\n",
    "\n",
    "plt.show()"
   ]
  },
  {
   "cell_type": "markdown",
   "id": "224cf2a0",
   "metadata": {},
   "source": [
    "It's much better. We export the linear regression of the inverse."
   ]
  },
  {
   "cell_type": "code",
   "execution_count": 79,
   "id": "d426a29c",
   "metadata": {},
   "outputs": [],
   "source": [
    "with open('estimator_problems_inverse.pkl','wb') as est_problems:\n",
    "    pickle.dump(LR2,est_problems)"
   ]
  },
  {
   "cell_type": "markdown",
   "id": "da816d6f",
   "metadata": {},
   "source": [
    "We create a table that contains both pieces of information needed to create the small segment."
   ]
  },
  {
   "cell_type": "code",
   "execution_count": 80,
   "id": "7c617199",
   "metadata": {},
   "outputs": [
    {
     "data": {
      "text/html": [
       "<div>\n",
       "<style scoped>\n",
       "    .dataframe tbody tr th:only-of-type {\n",
       "        vertical-align: middle;\n",
       "    }\n",
       "\n",
       "    .dataframe tbody tr th {\n",
       "        vertical-align: top;\n",
       "    }\n",
       "\n",
       "    .dataframe thead th {\n",
       "        text-align: right;\n",
       "    }\n",
       "</style>\n",
       "<table border=\"1\" class=\"dataframe\">\n",
       "  <thead>\n",
       "    <tr style=\"text-align: right;\">\n",
       "      <th></th>\n",
       "      <th>threshold_change</th>\n",
       "      <th>slope</th>\n",
       "    </tr>\n",
       "  </thead>\n",
       "  <tbody>\n",
       "    <tr>\n",
       "      <th>0</th>\n",
       "      <td>42.298557</td>\n",
       "      <td>-0.001102</td>\n",
       "    </tr>\n",
       "  </tbody>\n",
       "</table>\n",
       "</div>"
      ],
      "text/plain": [
       "   threshold_change     slope\n",
       "0         42.298557 -0.001102"
      ]
     },
     "execution_count": 80,
     "metadata": {},
     "output_type": "execute_result"
    }
   ],
   "source": [
    "pd.DataFrame({'threshold_change':[thresholds[idx_change]],'slope':[slope]})"
   ]
  },
  {
   "cell_type": "markdown",
   "id": "a3a94733",
   "metadata": {},
   "source": [
    "We create a table that contains for each threshold the estimate of the lost rental time."
   ]
  },
  {
   "cell_type": "code",
   "execution_count": 82,
   "id": "eb2dde56",
   "metadata": {},
   "outputs": [
    {
     "data": {
      "text/plain": [
       "40000"
      ]
     },
     "execution_count": 82,
     "metadata": {},
     "output_type": "execute_result"
    }
   ],
   "source": [
    "pd.DataFrame(data = np.concatenate([thresholds.reshape((-1,1)),predictions.reshape((-1,1))],axis = 1),columns = ['threshold'\\\n",
    "                                                                ,'loss'])\\\n",
    ".to_sql('loss_time',con = connexion , if_exists = 'replace' , index = False)"
   ]
  },
  {
   "cell_type": "code",
   "execution_count": 83,
   "id": "01540107",
   "metadata": {},
   "outputs": [
    {
     "data": {
      "text/html": [
       "<div>\n",
       "<style scoped>\n",
       "    .dataframe tbody tr th:only-of-type {\n",
       "        vertical-align: middle;\n",
       "    }\n",
       "\n",
       "    .dataframe tbody tr th {\n",
       "        vertical-align: top;\n",
       "    }\n",
       "\n",
       "    .dataframe thead th {\n",
       "        text-align: right;\n",
       "    }\n",
       "</style>\n",
       "<table border=\"1\" class=\"dataframe\">\n",
       "  <thead>\n",
       "    <tr style=\"text-align: right;\">\n",
       "      <th></th>\n",
       "      <th>threshold</th>\n",
       "      <th>loss</th>\n",
       "    </tr>\n",
       "  </thead>\n",
       "  <tbody>\n",
       "    <tr>\n",
       "      <th>0</th>\n",
       "      <td>0.000000</td>\n",
       "      <td>-10.777579</td>\n",
       "    </tr>\n",
       "    <tr>\n",
       "      <th>1</th>\n",
       "      <td>0.017500</td>\n",
       "      <td>-10.771560</td>\n",
       "    </tr>\n",
       "    <tr>\n",
       "      <th>2</th>\n",
       "      <td>0.035001</td>\n",
       "      <td>-10.765541</td>\n",
       "    </tr>\n",
       "    <tr>\n",
       "      <th>3</th>\n",
       "      <td>0.052501</td>\n",
       "      <td>-10.759522</td>\n",
       "    </tr>\n",
       "    <tr>\n",
       "      <th>4</th>\n",
       "      <td>0.070002</td>\n",
       "      <td>-10.753502</td>\n",
       "    </tr>\n",
       "  </tbody>\n",
       "</table>\n",
       "</div>"
      ],
      "text/plain": [
       "   threshold       loss\n",
       "0   0.000000 -10.777579\n",
       "1   0.017500 -10.771560\n",
       "2   0.035001 -10.765541\n",
       "3   0.052501 -10.759522\n",
       "4   0.070002 -10.753502"
      ]
     },
     "execution_count": 83,
     "metadata": {},
     "output_type": "execute_result"
    }
   ],
   "source": [
    "pd.read_sql_query('select * from loss_time', con = connexion).head()"
   ]
  },
  {
   "cell_type": "markdown",
   "id": "29a81953",
   "metadata": {},
   "source": [
    "We create a table that contains for each threshold the estimate of the number of rentals whose checkout delay is greater than the time lapse with the rental that follows."
   ]
  },
  {
   "cell_type": "code",
   "execution_count": 84,
   "id": "cfd60acf",
   "metadata": {},
   "outputs": [
    {
     "data": {
      "text/plain": [
       "40000"
      ]
     },
     "execution_count": 84,
     "metadata": {},
     "output_type": "execute_result"
    }
   ],
   "source": [
    "thresholds = np.linspace(0,700,40000)\n",
    "\n",
    "pd.DataFrame(np.concatenate([thresholds.reshape((-1,1)),\\\n",
    "np.concatenate([problems[0]+slope*thresholds[:idx_change].reshape((-1,1)),\\\n",
    "(1/y_pred)[idx_change:].reshape((-1,1))])],axis = 1),columns = ['threshold','problem'])\\\n",
    ".to_sql('check_out_problems',con = connexion , if_exists = 'replace' , index = False)                                               "
   ]
  },
  {
   "cell_type": "code",
   "execution_count": 85,
   "id": "1d0a5f14",
   "metadata": {},
   "outputs": [
    {
     "data": {
      "text/html": [
       "<div>\n",
       "<style scoped>\n",
       "    .dataframe tbody tr th:only-of-type {\n",
       "        vertical-align: middle;\n",
       "    }\n",
       "\n",
       "    .dataframe tbody tr th {\n",
       "        vertical-align: top;\n",
       "    }\n",
       "\n",
       "    .dataframe thead th {\n",
       "        text-align: right;\n",
       "    }\n",
       "</style>\n",
       "<table border=\"1\" class=\"dataframe\">\n",
       "  <thead>\n",
       "    <tr style=\"text-align: right;\">\n",
       "      <th></th>\n",
       "      <th>threshold</th>\n",
       "      <th>problem</th>\n",
       "    </tr>\n",
       "  </thead>\n",
       "  <tbody>\n",
       "    <tr>\n",
       "      <th>0</th>\n",
       "      <td>0.000000</td>\n",
       "      <td>0.118844</td>\n",
       "    </tr>\n",
       "    <tr>\n",
       "      <th>1</th>\n",
       "      <td>0.017500</td>\n",
       "      <td>0.118825</td>\n",
       "    </tr>\n",
       "    <tr>\n",
       "      <th>2</th>\n",
       "      <td>0.035001</td>\n",
       "      <td>0.118806</td>\n",
       "    </tr>\n",
       "    <tr>\n",
       "      <th>3</th>\n",
       "      <td>0.052501</td>\n",
       "      <td>0.118787</td>\n",
       "    </tr>\n",
       "    <tr>\n",
       "      <th>4</th>\n",
       "      <td>0.070002</td>\n",
       "      <td>0.118767</td>\n",
       "    </tr>\n",
       "  </tbody>\n",
       "</table>\n",
       "</div>"
      ],
      "text/plain": [
       "   threshold   problem\n",
       "0   0.000000  0.118844\n",
       "1   0.017500  0.118825\n",
       "2   0.035001  0.118806\n",
       "3   0.052501  0.118787\n",
       "4   0.070002  0.118767"
      ]
     },
     "execution_count": 85,
     "metadata": {},
     "output_type": "execute_result"
    }
   ],
   "source": [
    "pd.read_sql_query('select * from check_out_problems', con = connexion).head()"
   ]
  },
  {
   "cell_type": "code",
   "execution_count": 86,
   "id": "b1abd0db",
   "metadata": {},
   "outputs": [
    {
     "data": {
      "text/plain": [
       "1"
      ]
     },
     "execution_count": 86,
     "metadata": {},
     "output_type": "execute_result"
    }
   ],
   "source": [
    "pd.DataFrame({'threshold_change':[thresholds[idx_change]],'slope':[slope]})\\\n",
    ".to_sql('slope_check_out_problems',if_exists = 'replace',index = False,con = connexion)"
   ]
  },
  {
   "cell_type": "code",
   "execution_count": 89,
   "id": "3c6c8ebf",
   "metadata": {},
   "outputs": [],
   "source": [
    "pricing = pd.read_csv('get_around_pricing_project.csv',index_col = 0)"
   ]
  },
  {
   "cell_type": "code",
   "execution_count": 90,
   "id": "1f4fbb8a",
   "metadata": {},
   "outputs": [
    {
     "data": {
      "text/html": [
       "<div>\n",
       "<style scoped>\n",
       "    .dataframe tbody tr th:only-of-type {\n",
       "        vertical-align: middle;\n",
       "    }\n",
       "\n",
       "    .dataframe tbody tr th {\n",
       "        vertical-align: top;\n",
       "    }\n",
       "\n",
       "    .dataframe thead th {\n",
       "        text-align: right;\n",
       "    }\n",
       "</style>\n",
       "<table border=\"1\" class=\"dataframe\">\n",
       "  <thead>\n",
       "    <tr style=\"text-align: right;\">\n",
       "      <th></th>\n",
       "      <th>model_key</th>\n",
       "      <th>mileage</th>\n",
       "      <th>engine_power</th>\n",
       "      <th>fuel</th>\n",
       "      <th>paint_color</th>\n",
       "      <th>car_type</th>\n",
       "      <th>private_parking_available</th>\n",
       "      <th>has_gps</th>\n",
       "      <th>has_air_conditioning</th>\n",
       "      <th>automatic_car</th>\n",
       "      <th>has_getaround_connect</th>\n",
       "      <th>has_speed_regulator</th>\n",
       "      <th>winter_tires</th>\n",
       "      <th>rental_price_per_day</th>\n",
       "    </tr>\n",
       "  </thead>\n",
       "  <tbody>\n",
       "    <tr>\n",
       "      <th>0</th>\n",
       "      <td>Citroën</td>\n",
       "      <td>140411</td>\n",
       "      <td>100</td>\n",
       "      <td>diesel</td>\n",
       "      <td>black</td>\n",
       "      <td>convertible</td>\n",
       "      <td>True</td>\n",
       "      <td>True</td>\n",
       "      <td>False</td>\n",
       "      <td>False</td>\n",
       "      <td>True</td>\n",
       "      <td>True</td>\n",
       "      <td>True</td>\n",
       "      <td>106</td>\n",
       "    </tr>\n",
       "    <tr>\n",
       "      <th>1</th>\n",
       "      <td>Citroën</td>\n",
       "      <td>13929</td>\n",
       "      <td>317</td>\n",
       "      <td>petrol</td>\n",
       "      <td>grey</td>\n",
       "      <td>convertible</td>\n",
       "      <td>True</td>\n",
       "      <td>True</td>\n",
       "      <td>False</td>\n",
       "      <td>False</td>\n",
       "      <td>False</td>\n",
       "      <td>True</td>\n",
       "      <td>True</td>\n",
       "      <td>264</td>\n",
       "    </tr>\n",
       "    <tr>\n",
       "      <th>2</th>\n",
       "      <td>Citroën</td>\n",
       "      <td>183297</td>\n",
       "      <td>120</td>\n",
       "      <td>diesel</td>\n",
       "      <td>white</td>\n",
       "      <td>convertible</td>\n",
       "      <td>False</td>\n",
       "      <td>False</td>\n",
       "      <td>False</td>\n",
       "      <td>False</td>\n",
       "      <td>True</td>\n",
       "      <td>False</td>\n",
       "      <td>True</td>\n",
       "      <td>101</td>\n",
       "    </tr>\n",
       "    <tr>\n",
       "      <th>3</th>\n",
       "      <td>Citroën</td>\n",
       "      <td>128035</td>\n",
       "      <td>135</td>\n",
       "      <td>diesel</td>\n",
       "      <td>red</td>\n",
       "      <td>convertible</td>\n",
       "      <td>True</td>\n",
       "      <td>True</td>\n",
       "      <td>False</td>\n",
       "      <td>False</td>\n",
       "      <td>True</td>\n",
       "      <td>True</td>\n",
       "      <td>True</td>\n",
       "      <td>158</td>\n",
       "    </tr>\n",
       "    <tr>\n",
       "      <th>4</th>\n",
       "      <td>Citroën</td>\n",
       "      <td>97097</td>\n",
       "      <td>160</td>\n",
       "      <td>diesel</td>\n",
       "      <td>silver</td>\n",
       "      <td>convertible</td>\n",
       "      <td>True</td>\n",
       "      <td>True</td>\n",
       "      <td>False</td>\n",
       "      <td>False</td>\n",
       "      <td>False</td>\n",
       "      <td>True</td>\n",
       "      <td>True</td>\n",
       "      <td>183</td>\n",
       "    </tr>\n",
       "  </tbody>\n",
       "</table>\n",
       "</div>"
      ],
      "text/plain": [
       "  model_key  mileage  engine_power    fuel paint_color     car_type  \\\n",
       "0   Citroën   140411           100  diesel       black  convertible   \n",
       "1   Citroën    13929           317  petrol        grey  convertible   \n",
       "2   Citroën   183297           120  diesel       white  convertible   \n",
       "3   Citroën   128035           135  diesel         red  convertible   \n",
       "4   Citroën    97097           160  diesel      silver  convertible   \n",
       "\n",
       "   private_parking_available  has_gps  has_air_conditioning  automatic_car  \\\n",
       "0                       True     True                 False          False   \n",
       "1                       True     True                 False          False   \n",
       "2                      False    False                 False          False   \n",
       "3                       True     True                 False          False   \n",
       "4                       True     True                 False          False   \n",
       "\n",
       "   has_getaround_connect  has_speed_regulator  winter_tires  \\\n",
       "0                   True                 True          True   \n",
       "1                  False                 True          True   \n",
       "2                   True                False          True   \n",
       "3                   True                 True          True   \n",
       "4                  False                 True          True   \n",
       "\n",
       "   rental_price_per_day  \n",
       "0                   106  \n",
       "1                   264  \n",
       "2                   101  \n",
       "3                   158  \n",
       "4                   183  "
      ]
     },
     "execution_count": 90,
     "metadata": {},
     "output_type": "execute_result"
    }
   ],
   "source": [
    "pricing.head()"
   ]
  },
  {
   "cell_type": "code",
   "execution_count": 91,
   "id": "ce1aded4",
   "metadata": {},
   "outputs": [
    {
     "data": {
      "text/html": [
       "<div>\n",
       "<style scoped>\n",
       "    .dataframe tbody tr th:only-of-type {\n",
       "        vertical-align: middle;\n",
       "    }\n",
       "\n",
       "    .dataframe tbody tr th {\n",
       "        vertical-align: top;\n",
       "    }\n",
       "\n",
       "    .dataframe thead th {\n",
       "        text-align: right;\n",
       "    }\n",
       "</style>\n",
       "<table border=\"1\" class=\"dataframe\">\n",
       "  <thead>\n",
       "    <tr style=\"text-align: right;\">\n",
       "      <th></th>\n",
       "      <th>model_key</th>\n",
       "      <th>mileage</th>\n",
       "      <th>engine_power</th>\n",
       "      <th>fuel</th>\n",
       "      <th>paint_color</th>\n",
       "      <th>car_type</th>\n",
       "      <th>private_parking_available</th>\n",
       "      <th>has_gps</th>\n",
       "      <th>has_air_conditioning</th>\n",
       "      <th>automatic_car</th>\n",
       "      <th>has_getaround_connect</th>\n",
       "      <th>has_speed_regulator</th>\n",
       "      <th>winter_tires</th>\n",
       "      <th>rental_price_per_day</th>\n",
       "    </tr>\n",
       "  </thead>\n",
       "  <tbody>\n",
       "    <tr>\n",
       "      <th>0</th>\n",
       "      <td>Citroën</td>\n",
       "      <td>140411</td>\n",
       "      <td>100</td>\n",
       "      <td>diesel</td>\n",
       "      <td>black</td>\n",
       "      <td>convertible</td>\n",
       "      <td>1</td>\n",
       "      <td>1</td>\n",
       "      <td>0</td>\n",
       "      <td>0</td>\n",
       "      <td>1</td>\n",
       "      <td>1</td>\n",
       "      <td>1</td>\n",
       "      <td>106</td>\n",
       "    </tr>\n",
       "    <tr>\n",
       "      <th>1</th>\n",
       "      <td>Citroën</td>\n",
       "      <td>13929</td>\n",
       "      <td>317</td>\n",
       "      <td>petrol</td>\n",
       "      <td>grey</td>\n",
       "      <td>convertible</td>\n",
       "      <td>1</td>\n",
       "      <td>1</td>\n",
       "      <td>0</td>\n",
       "      <td>0</td>\n",
       "      <td>0</td>\n",
       "      <td>1</td>\n",
       "      <td>1</td>\n",
       "      <td>264</td>\n",
       "    </tr>\n",
       "    <tr>\n",
       "      <th>2</th>\n",
       "      <td>Citroën</td>\n",
       "      <td>183297</td>\n",
       "      <td>120</td>\n",
       "      <td>diesel</td>\n",
       "      <td>white</td>\n",
       "      <td>convertible</td>\n",
       "      <td>0</td>\n",
       "      <td>0</td>\n",
       "      <td>0</td>\n",
       "      <td>0</td>\n",
       "      <td>1</td>\n",
       "      <td>0</td>\n",
       "      <td>1</td>\n",
       "      <td>101</td>\n",
       "    </tr>\n",
       "    <tr>\n",
       "      <th>3</th>\n",
       "      <td>Citroën</td>\n",
       "      <td>128035</td>\n",
       "      <td>135</td>\n",
       "      <td>diesel</td>\n",
       "      <td>red</td>\n",
       "      <td>convertible</td>\n",
       "      <td>1</td>\n",
       "      <td>1</td>\n",
       "      <td>0</td>\n",
       "      <td>0</td>\n",
       "      <td>1</td>\n",
       "      <td>1</td>\n",
       "      <td>1</td>\n",
       "      <td>158</td>\n",
       "    </tr>\n",
       "    <tr>\n",
       "      <th>4</th>\n",
       "      <td>Citroën</td>\n",
       "      <td>97097</td>\n",
       "      <td>160</td>\n",
       "      <td>diesel</td>\n",
       "      <td>silver</td>\n",
       "      <td>convertible</td>\n",
       "      <td>1</td>\n",
       "      <td>1</td>\n",
       "      <td>0</td>\n",
       "      <td>0</td>\n",
       "      <td>0</td>\n",
       "      <td>1</td>\n",
       "      <td>1</td>\n",
       "      <td>183</td>\n",
       "    </tr>\n",
       "  </tbody>\n",
       "</table>\n",
       "</div>"
      ],
      "text/plain": [
       "  model_key  mileage  engine_power    fuel paint_color     car_type  \\\n",
       "0   Citroën   140411           100  diesel       black  convertible   \n",
       "1   Citroën    13929           317  petrol        grey  convertible   \n",
       "2   Citroën   183297           120  diesel       white  convertible   \n",
       "3   Citroën   128035           135  diesel         red  convertible   \n",
       "4   Citroën    97097           160  diesel      silver  convertible   \n",
       "\n",
       "   private_parking_available  has_gps  has_air_conditioning  automatic_car  \\\n",
       "0                          1        1                     0              0   \n",
       "1                          1        1                     0              0   \n",
       "2                          0        0                     0              0   \n",
       "3                          1        1                     0              0   \n",
       "4                          1        1                     0              0   \n",
       "\n",
       "   has_getaround_connect  has_speed_regulator  winter_tires  \\\n",
       "0                      1                    1             1   \n",
       "1                      0                    1             1   \n",
       "2                      1                    0             1   \n",
       "3                      1                    1             1   \n",
       "4                      0                    1             1   \n",
       "\n",
       "   rental_price_per_day  \n",
       "0                   106  \n",
       "1                   264  \n",
       "2                   101  \n",
       "3                   158  \n",
       "4                   183  "
      ]
     },
     "execution_count": 91,
     "metadata": {},
     "output_type": "execute_result"
    }
   ],
   "source": [
    "pricing.iloc[:,6:-1] = pricing.iloc[:,6:-1].astype(int)\n",
    "pricing.head()"
   ]
  },
  {
   "cell_type": "code",
   "execution_count": 92,
   "id": "552fac66",
   "metadata": {},
   "outputs": [
    {
     "data": {
      "text/html": [
       "<div>\n",
       "<style scoped>\n",
       "    .dataframe tbody tr th:only-of-type {\n",
       "        vertical-align: middle;\n",
       "    }\n",
       "\n",
       "    .dataframe tbody tr th {\n",
       "        vertical-align: top;\n",
       "    }\n",
       "\n",
       "    .dataframe thead th {\n",
       "        text-align: right;\n",
       "    }\n",
       "</style>\n",
       "<table border=\"1\" class=\"dataframe\">\n",
       "  <thead>\n",
       "    <tr style=\"text-align: right;\">\n",
       "      <th></th>\n",
       "      <th>model_key</th>\n",
       "      <th>mileage</th>\n",
       "      <th>engine_power</th>\n",
       "      <th>fuel</th>\n",
       "      <th>paint_color</th>\n",
       "      <th>car_type</th>\n",
       "      <th>private_parking_available</th>\n",
       "      <th>has_gps</th>\n",
       "      <th>has_air_conditioning</th>\n",
       "      <th>automatic_car</th>\n",
       "      <th>has_getaround_connect</th>\n",
       "      <th>has_speed_regulator</th>\n",
       "      <th>winter_tires</th>\n",
       "      <th>rental_price_per_day</th>\n",
       "    </tr>\n",
       "  </thead>\n",
       "  <tbody>\n",
       "    <tr>\n",
       "      <th>count</th>\n",
       "      <td>4843</td>\n",
       "      <td>4.843000e+03</td>\n",
       "      <td>4843.00000</td>\n",
       "      <td>4843</td>\n",
       "      <td>4843</td>\n",
       "      <td>4843</td>\n",
       "      <td>4843.000000</td>\n",
       "      <td>4843.000000</td>\n",
       "      <td>4843.000000</td>\n",
       "      <td>4843.000000</td>\n",
       "      <td>4843.000000</td>\n",
       "      <td>4843.000000</td>\n",
       "      <td>4843.000000</td>\n",
       "      <td>4843.000000</td>\n",
       "    </tr>\n",
       "    <tr>\n",
       "      <th>unique</th>\n",
       "      <td>28</td>\n",
       "      <td>NaN</td>\n",
       "      <td>NaN</td>\n",
       "      <td>4</td>\n",
       "      <td>10</td>\n",
       "      <td>8</td>\n",
       "      <td>NaN</td>\n",
       "      <td>NaN</td>\n",
       "      <td>NaN</td>\n",
       "      <td>NaN</td>\n",
       "      <td>NaN</td>\n",
       "      <td>NaN</td>\n",
       "      <td>NaN</td>\n",
       "      <td>NaN</td>\n",
       "    </tr>\n",
       "    <tr>\n",
       "      <th>top</th>\n",
       "      <td>Citroën</td>\n",
       "      <td>NaN</td>\n",
       "      <td>NaN</td>\n",
       "      <td>diesel</td>\n",
       "      <td>black</td>\n",
       "      <td>estate</td>\n",
       "      <td>NaN</td>\n",
       "      <td>NaN</td>\n",
       "      <td>NaN</td>\n",
       "      <td>NaN</td>\n",
       "      <td>NaN</td>\n",
       "      <td>NaN</td>\n",
       "      <td>NaN</td>\n",
       "      <td>NaN</td>\n",
       "    </tr>\n",
       "    <tr>\n",
       "      <th>freq</th>\n",
       "      <td>969</td>\n",
       "      <td>NaN</td>\n",
       "      <td>NaN</td>\n",
       "      <td>4641</td>\n",
       "      <td>1633</td>\n",
       "      <td>1606</td>\n",
       "      <td>NaN</td>\n",
       "      <td>NaN</td>\n",
       "      <td>NaN</td>\n",
       "      <td>NaN</td>\n",
       "      <td>NaN</td>\n",
       "      <td>NaN</td>\n",
       "      <td>NaN</td>\n",
       "      <td>NaN</td>\n",
       "    </tr>\n",
       "    <tr>\n",
       "      <th>mean</th>\n",
       "      <td>NaN</td>\n",
       "      <td>1.409628e+05</td>\n",
       "      <td>128.98823</td>\n",
       "      <td>NaN</td>\n",
       "      <td>NaN</td>\n",
       "      <td>NaN</td>\n",
       "      <td>0.549659</td>\n",
       "      <td>0.792690</td>\n",
       "      <td>0.201941</td>\n",
       "      <td>0.198637</td>\n",
       "      <td>0.460458</td>\n",
       "      <td>0.241379</td>\n",
       "      <td>0.932067</td>\n",
       "      <td>121.214536</td>\n",
       "    </tr>\n",
       "    <tr>\n",
       "      <th>std</th>\n",
       "      <td>NaN</td>\n",
       "      <td>6.019674e+04</td>\n",
       "      <td>38.99336</td>\n",
       "      <td>NaN</td>\n",
       "      <td>NaN</td>\n",
       "      <td>NaN</td>\n",
       "      <td>0.497579</td>\n",
       "      <td>0.405421</td>\n",
       "      <td>0.401490</td>\n",
       "      <td>0.399015</td>\n",
       "      <td>0.498485</td>\n",
       "      <td>0.427964</td>\n",
       "      <td>0.251657</td>\n",
       "      <td>33.568268</td>\n",
       "    </tr>\n",
       "    <tr>\n",
       "      <th>min</th>\n",
       "      <td>NaN</td>\n",
       "      <td>-6.400000e+01</td>\n",
       "      <td>0.00000</td>\n",
       "      <td>NaN</td>\n",
       "      <td>NaN</td>\n",
       "      <td>NaN</td>\n",
       "      <td>0.000000</td>\n",
       "      <td>0.000000</td>\n",
       "      <td>0.000000</td>\n",
       "      <td>0.000000</td>\n",
       "      <td>0.000000</td>\n",
       "      <td>0.000000</td>\n",
       "      <td>0.000000</td>\n",
       "      <td>10.000000</td>\n",
       "    </tr>\n",
       "    <tr>\n",
       "      <th>25%</th>\n",
       "      <td>NaN</td>\n",
       "      <td>1.029135e+05</td>\n",
       "      <td>100.00000</td>\n",
       "      <td>NaN</td>\n",
       "      <td>NaN</td>\n",
       "      <td>NaN</td>\n",
       "      <td>0.000000</td>\n",
       "      <td>1.000000</td>\n",
       "      <td>0.000000</td>\n",
       "      <td>0.000000</td>\n",
       "      <td>0.000000</td>\n",
       "      <td>0.000000</td>\n",
       "      <td>1.000000</td>\n",
       "      <td>104.000000</td>\n",
       "    </tr>\n",
       "    <tr>\n",
       "      <th>50%</th>\n",
       "      <td>NaN</td>\n",
       "      <td>1.410800e+05</td>\n",
       "      <td>120.00000</td>\n",
       "      <td>NaN</td>\n",
       "      <td>NaN</td>\n",
       "      <td>NaN</td>\n",
       "      <td>1.000000</td>\n",
       "      <td>1.000000</td>\n",
       "      <td>0.000000</td>\n",
       "      <td>0.000000</td>\n",
       "      <td>0.000000</td>\n",
       "      <td>0.000000</td>\n",
       "      <td>1.000000</td>\n",
       "      <td>119.000000</td>\n",
       "    </tr>\n",
       "    <tr>\n",
       "      <th>75%</th>\n",
       "      <td>NaN</td>\n",
       "      <td>1.751955e+05</td>\n",
       "      <td>135.00000</td>\n",
       "      <td>NaN</td>\n",
       "      <td>NaN</td>\n",
       "      <td>NaN</td>\n",
       "      <td>1.000000</td>\n",
       "      <td>1.000000</td>\n",
       "      <td>0.000000</td>\n",
       "      <td>0.000000</td>\n",
       "      <td>1.000000</td>\n",
       "      <td>0.000000</td>\n",
       "      <td>1.000000</td>\n",
       "      <td>136.000000</td>\n",
       "    </tr>\n",
       "    <tr>\n",
       "      <th>max</th>\n",
       "      <td>NaN</td>\n",
       "      <td>1.000376e+06</td>\n",
       "      <td>423.00000</td>\n",
       "      <td>NaN</td>\n",
       "      <td>NaN</td>\n",
       "      <td>NaN</td>\n",
       "      <td>1.000000</td>\n",
       "      <td>1.000000</td>\n",
       "      <td>1.000000</td>\n",
       "      <td>1.000000</td>\n",
       "      <td>1.000000</td>\n",
       "      <td>1.000000</td>\n",
       "      <td>1.000000</td>\n",
       "      <td>422.000000</td>\n",
       "    </tr>\n",
       "  </tbody>\n",
       "</table>\n",
       "</div>"
      ],
      "text/plain": [
       "       model_key       mileage  engine_power    fuel paint_color car_type  \\\n",
       "count       4843  4.843000e+03    4843.00000    4843        4843     4843   \n",
       "unique        28           NaN           NaN       4          10        8   \n",
       "top      Citroën           NaN           NaN  diesel       black   estate   \n",
       "freq         969           NaN           NaN    4641        1633     1606   \n",
       "mean         NaN  1.409628e+05     128.98823     NaN         NaN      NaN   \n",
       "std          NaN  6.019674e+04      38.99336     NaN         NaN      NaN   \n",
       "min          NaN -6.400000e+01       0.00000     NaN         NaN      NaN   \n",
       "25%          NaN  1.029135e+05     100.00000     NaN         NaN      NaN   \n",
       "50%          NaN  1.410800e+05     120.00000     NaN         NaN      NaN   \n",
       "75%          NaN  1.751955e+05     135.00000     NaN         NaN      NaN   \n",
       "max          NaN  1.000376e+06     423.00000     NaN         NaN      NaN   \n",
       "\n",
       "        private_parking_available      has_gps  has_air_conditioning  \\\n",
       "count                 4843.000000  4843.000000           4843.000000   \n",
       "unique                        NaN          NaN                   NaN   \n",
       "top                           NaN          NaN                   NaN   \n",
       "freq                          NaN          NaN                   NaN   \n",
       "mean                     0.549659     0.792690              0.201941   \n",
       "std                      0.497579     0.405421              0.401490   \n",
       "min                      0.000000     0.000000              0.000000   \n",
       "25%                      0.000000     1.000000              0.000000   \n",
       "50%                      1.000000     1.000000              0.000000   \n",
       "75%                      1.000000     1.000000              0.000000   \n",
       "max                      1.000000     1.000000              1.000000   \n",
       "\n",
       "        automatic_car  has_getaround_connect  has_speed_regulator  \\\n",
       "count     4843.000000            4843.000000          4843.000000   \n",
       "unique            NaN                    NaN                  NaN   \n",
       "top               NaN                    NaN                  NaN   \n",
       "freq              NaN                    NaN                  NaN   \n",
       "mean         0.198637               0.460458             0.241379   \n",
       "std          0.399015               0.498485             0.427964   \n",
       "min          0.000000               0.000000             0.000000   \n",
       "25%          0.000000               0.000000             0.000000   \n",
       "50%          0.000000               0.000000             0.000000   \n",
       "75%          0.000000               1.000000             0.000000   \n",
       "max          1.000000               1.000000             1.000000   \n",
       "\n",
       "        winter_tires  rental_price_per_day  \n",
       "count    4843.000000           4843.000000  \n",
       "unique           NaN                   NaN  \n",
       "top              NaN                   NaN  \n",
       "freq             NaN                   NaN  \n",
       "mean        0.932067            121.214536  \n",
       "std         0.251657             33.568268  \n",
       "min         0.000000             10.000000  \n",
       "25%         1.000000            104.000000  \n",
       "50%         1.000000            119.000000  \n",
       "75%         1.000000            136.000000  \n",
       "max         1.000000            422.000000  "
      ]
     },
     "execution_count": 92,
     "metadata": {},
     "output_type": "execute_result"
    }
   ],
   "source": [
    "pricing.describe(include = \"all\")"
   ]
  },
  {
   "cell_type": "code",
   "execution_count": 93,
   "id": "11470144",
   "metadata": {},
   "outputs": [
    {
     "name": "stdout",
     "output_type": "stream",
     "text": [
      "Missing values:\n",
      "model_key : 0\n",
      "mileage : 0\n",
      "engine_power : 0\n",
      "fuel : 0\n",
      "paint_color : 0\n",
      "car_type : 0\n",
      "private_parking_available : 0\n",
      "has_gps : 0\n",
      "has_air_conditioning : 0\n",
      "automatic_car : 0\n",
      "has_getaround_connect : 0\n",
      "has_speed_regulator : 0\n",
      "winter_tires : 0\n",
      "rental_price_per_day : 0\n"
     ]
    }
   ],
   "source": [
    "print(\"Missing values:\")\n",
    "\n",
    "for col in pricing.columns.tolist():\n",
    "    \n",
    "    print(col,\":\",pricing[col].isnull().sum())"
   ]
  },
  {
   "cell_type": "markdown",
   "id": "63d7be3e",
   "metadata": {},
   "source": [
    "No missing values. Only models that have at least 50 rental cars are considered."
   ]
  },
  {
   "cell_type": "code",
   "execution_count": 94,
   "id": "19dd4d24",
   "metadata": {},
   "outputs": [],
   "source": [
    "value_models = pd.DataFrame(pricing['model_key'].value_counts()>50)"
   ]
  },
  {
   "cell_type": "code",
   "execution_count": 95,
   "id": "18172832",
   "metadata": {},
   "outputs": [],
   "source": [
    "list_models_taken = value_models[value_models['model_key']].index.tolist()"
   ]
  },
  {
   "cell_type": "code",
   "execution_count": 96,
   "id": "f4079315",
   "metadata": {},
   "outputs": [],
   "source": [
    "pricing = pricing[pricing['model_key'].apply(lambda x : x in list_models_taken)]"
   ]
  },
  {
   "cell_type": "code",
   "execution_count": 97,
   "id": "ec5e4398",
   "metadata": {},
   "outputs": [
    {
     "data": {
      "text/plain": [
       "Citroën       969\n",
       "Renault       916\n",
       "BMW           827\n",
       "Peugeot       642\n",
       "Audi          526\n",
       "Nissan        275\n",
       "Mitsubishi    231\n",
       "Mercedes       97\n",
       "Volkswagen     65\n",
       "Toyota         53\n",
       "Name: model_key, dtype: int64"
      ]
     },
     "execution_count": 97,
     "metadata": {},
     "output_type": "execute_result"
    }
   ],
   "source": [
    "pricing['model_key'].value_counts()"
   ]
  },
  {
   "cell_type": "code",
   "execution_count": 98,
   "id": "b111353a",
   "metadata": {},
   "outputs": [
    {
     "data": {
      "text/plain": [
       "fuel\n",
       "diesel           119.352661\n",
       "hybrid_petrol    250.666667\n",
       "petrol           107.814208\n",
       "Name: rental_price_per_day, dtype: float64"
      ]
     },
     "execution_count": 98,
     "metadata": {},
     "output_type": "execute_result"
    }
   ],
   "source": [
    "pricing.groupby('fuel')['rental_price_per_day'].mean()"
   ]
  },
  {
   "cell_type": "markdown",
   "id": "9b4a6e7f",
   "metadata": {},
   "source": [
    "We import the usual libraries."
   ]
  },
  {
   "cell_type": "code",
   "execution_count": 99,
   "id": "e05fc592",
   "metadata": {},
   "outputs": [],
   "source": [
    "from sklearn.model_selection import train_test_split\n",
    "from sklearn.impute import SimpleImputer\n",
    "from sklearn.preprocessing import  OneHotEncoder, StandardScaler\n",
    "from sklearn.compose import ColumnTransformer\n",
    "from sklearn.pipeline import Pipeline\n",
    "\n",
    "from sklearn.metrics import r2_score"
   ]
  },
  {
   "cell_type": "code",
   "execution_count": 100,
   "id": "cc92ca01",
   "metadata": {},
   "outputs": [
    {
     "data": {
      "text/html": [
       "<div>\n",
       "<style scoped>\n",
       "    .dataframe tbody tr th:only-of-type {\n",
       "        vertical-align: middle;\n",
       "    }\n",
       "\n",
       "    .dataframe tbody tr th {\n",
       "        vertical-align: top;\n",
       "    }\n",
       "\n",
       "    .dataframe thead th {\n",
       "        text-align: right;\n",
       "    }\n",
       "</style>\n",
       "<table border=\"1\" class=\"dataframe\">\n",
       "  <thead>\n",
       "    <tr style=\"text-align: right;\">\n",
       "      <th></th>\n",
       "      <th>model_key</th>\n",
       "      <th>mileage</th>\n",
       "      <th>engine_power</th>\n",
       "      <th>fuel</th>\n",
       "      <th>paint_color</th>\n",
       "      <th>car_type</th>\n",
       "      <th>private_parking_available</th>\n",
       "      <th>has_gps</th>\n",
       "      <th>has_air_conditioning</th>\n",
       "      <th>automatic_car</th>\n",
       "      <th>has_getaround_connect</th>\n",
       "      <th>has_speed_regulator</th>\n",
       "      <th>winter_tires</th>\n",
       "      <th>rental_price_per_day</th>\n",
       "    </tr>\n",
       "  </thead>\n",
       "  <tbody>\n",
       "    <tr>\n",
       "      <th>0</th>\n",
       "      <td>Citroën</td>\n",
       "      <td>140411</td>\n",
       "      <td>100</td>\n",
       "      <td>diesel</td>\n",
       "      <td>black</td>\n",
       "      <td>convertible</td>\n",
       "      <td>1</td>\n",
       "      <td>1</td>\n",
       "      <td>0</td>\n",
       "      <td>0</td>\n",
       "      <td>1</td>\n",
       "      <td>1</td>\n",
       "      <td>1</td>\n",
       "      <td>106</td>\n",
       "    </tr>\n",
       "    <tr>\n",
       "      <th>1</th>\n",
       "      <td>Citroën</td>\n",
       "      <td>13929</td>\n",
       "      <td>317</td>\n",
       "      <td>petrol</td>\n",
       "      <td>grey</td>\n",
       "      <td>convertible</td>\n",
       "      <td>1</td>\n",
       "      <td>1</td>\n",
       "      <td>0</td>\n",
       "      <td>0</td>\n",
       "      <td>0</td>\n",
       "      <td>1</td>\n",
       "      <td>1</td>\n",
       "      <td>264</td>\n",
       "    </tr>\n",
       "    <tr>\n",
       "      <th>2</th>\n",
       "      <td>Citroën</td>\n",
       "      <td>183297</td>\n",
       "      <td>120</td>\n",
       "      <td>diesel</td>\n",
       "      <td>white</td>\n",
       "      <td>convertible</td>\n",
       "      <td>0</td>\n",
       "      <td>0</td>\n",
       "      <td>0</td>\n",
       "      <td>0</td>\n",
       "      <td>1</td>\n",
       "      <td>0</td>\n",
       "      <td>1</td>\n",
       "      <td>101</td>\n",
       "    </tr>\n",
       "    <tr>\n",
       "      <th>3</th>\n",
       "      <td>Citroën</td>\n",
       "      <td>128035</td>\n",
       "      <td>135</td>\n",
       "      <td>diesel</td>\n",
       "      <td>red</td>\n",
       "      <td>convertible</td>\n",
       "      <td>1</td>\n",
       "      <td>1</td>\n",
       "      <td>0</td>\n",
       "      <td>0</td>\n",
       "      <td>1</td>\n",
       "      <td>1</td>\n",
       "      <td>1</td>\n",
       "      <td>158</td>\n",
       "    </tr>\n",
       "    <tr>\n",
       "      <th>4</th>\n",
       "      <td>Citroën</td>\n",
       "      <td>97097</td>\n",
       "      <td>160</td>\n",
       "      <td>diesel</td>\n",
       "      <td>silver</td>\n",
       "      <td>convertible</td>\n",
       "      <td>1</td>\n",
       "      <td>1</td>\n",
       "      <td>0</td>\n",
       "      <td>0</td>\n",
       "      <td>0</td>\n",
       "      <td>1</td>\n",
       "      <td>1</td>\n",
       "      <td>183</td>\n",
       "    </tr>\n",
       "  </tbody>\n",
       "</table>\n",
       "</div>"
      ],
      "text/plain": [
       "  model_key  mileage  engine_power    fuel paint_color     car_type  \\\n",
       "0   Citroën   140411           100  diesel       black  convertible   \n",
       "1   Citroën    13929           317  petrol        grey  convertible   \n",
       "2   Citroën   183297           120  diesel       white  convertible   \n",
       "3   Citroën   128035           135  diesel         red  convertible   \n",
       "4   Citroën    97097           160  diesel      silver  convertible   \n",
       "\n",
       "   private_parking_available  has_gps  has_air_conditioning  automatic_car  \\\n",
       "0                          1        1                     0              0   \n",
       "1                          1        1                     0              0   \n",
       "2                          0        0                     0              0   \n",
       "3                          1        1                     0              0   \n",
       "4                          1        1                     0              0   \n",
       "\n",
       "   has_getaround_connect  has_speed_regulator  winter_tires  \\\n",
       "0                      1                    1             1   \n",
       "1                      0                    1             1   \n",
       "2                      1                    0             1   \n",
       "3                      1                    1             1   \n",
       "4                      0                    1             1   \n",
       "\n",
       "   rental_price_per_day  \n",
       "0                   106  \n",
       "1                   264  \n",
       "2                   101  \n",
       "3                   158  \n",
       "4                   183  "
      ]
     },
     "execution_count": 100,
     "metadata": {},
     "output_type": "execute_result"
    }
   ],
   "source": [
    "pricing.head()"
   ]
  },
  {
   "cell_type": "markdown",
   "id": "10b551a8",
   "metadata": {},
   "source": [
    "We carry out the classic pre-processing."
   ]
  },
  {
   "cell_type": "code",
   "execution_count": 101,
   "id": "9a58035d",
   "metadata": {},
   "outputs": [],
   "source": [
    "# Create pipeline for categorical features\n",
    "categorical_features = [0,3,4,5] # Positions of categorical columns in X_train/X_test\n",
    "categorical_transformer = Pipeline(\n",
    "    steps=[\n",
    "    ('imputer', SimpleImputer(strategy='most_frequent')), # missing values will be replaced by most frequent value\n",
    "    ('encoder', OneHotEncoder(drop='first',handle_unknown = 'infrequent_if_exist',sparse = False)) # first column will be dropped to avoid creating correlations between features\n",
    "    ])"
   ]
  },
  {
   "cell_type": "code",
   "execution_count": 102,
   "id": "14f3cdb1",
   "metadata": {},
   "outputs": [],
   "source": [
    "numeric_features = [1,2] # Positions of numeric columns in X_train/X_test\n",
    "numeric_transformer = Pipeline(steps=[\n",
    "    ('imputer', SimpleImputer(strategy='median')), # missing values will be replaced by columns' median\n",
    "    ('scaler', StandardScaler())\n",
    "])"
   ]
  },
  {
   "cell_type": "code",
   "execution_count": 103,
   "id": "8e007605",
   "metadata": {},
   "outputs": [],
   "source": [
    "# Create pipeline for do nothing\n",
    "do_nothing_features = [x for x in range(pricing.shape[1]-1) if x not in categorical_features + numeric_features] \n",
    "do_nothing_transformer = Pipeline(steps=[\n",
    "    ('imputer', SimpleImputer(strategy='median')) # missing values will be replaced by columns' median\n",
    "])"
   ]
  },
  {
   "cell_type": "code",
   "execution_count": 104,
   "id": "4dfab1e9",
   "metadata": {},
   "outputs": [],
   "source": [
    "# Use ColumnTransformer to make a preprocessor object that describes all the treatments to be done\n",
    "preprocessor = ColumnTransformer(\n",
    "    transformers=[\n",
    "        ('num', numeric_transformer, numeric_features),\n",
    "        ('cat', categorical_transformer, categorical_features),\n",
    "        ('nothing',do_nothing_transformer,do_nothing_features)\n",
    "    ])"
   ]
  },
  {
   "cell_type": "code",
   "execution_count": 105,
   "id": "52533340",
   "metadata": {},
   "outputs": [],
   "source": [
    "X = pricing.iloc[:,:-1]\n",
    "y = pricing.iloc[:,-1]"
   ]
  },
  {
   "cell_type": "code",
   "execution_count": 106,
   "id": "ad52b034",
   "metadata": {},
   "outputs": [
    {
     "name": "stdout",
     "output_type": "stream",
     "text": [
      "Dividing into train and test sets...\n",
      "...Done.\n",
      "\n"
     ]
    }
   ],
   "source": [
    "# Divide dataset Train set & Test set \n",
    "print(\"Dividing into train and test sets...\")\n",
    "X_train, X_test, y_train, y_test = train_test_split(X, y, test_size=0.2, \n",
    "                                                    random_state=0)\n",
    "print(\"...Done.\")\n",
    "print()"
   ]
  },
  {
   "cell_type": "markdown",
   "id": "2ff01907",
   "metadata": {},
   "source": [
    "We train a model based on linear regression."
   ]
  },
  {
   "cell_type": "code",
   "execution_count": 107,
   "id": "37690611",
   "metadata": {},
   "outputs": [],
   "source": [
    "X_train = preprocessor.fit_transform(X_train)\n",
    "X_test = preprocessor.transform(X_test)"
   ]
  },
  {
   "cell_type": "code",
   "execution_count": 108,
   "id": "732f5f89",
   "metadata": {},
   "outputs": [],
   "source": [
    "LR3 = LinearRegression()"
   ]
  },
  {
   "cell_type": "code",
   "execution_count": 109,
   "id": "62322185",
   "metadata": {},
   "outputs": [
    {
     "data": {
      "text/html": [
       "<style>#sk-container-id-4 {color: black;background-color: white;}#sk-container-id-4 pre{padding: 0;}#sk-container-id-4 div.sk-toggleable {background-color: white;}#sk-container-id-4 label.sk-toggleable__label {cursor: pointer;display: block;width: 100%;margin-bottom: 0;padding: 0.3em;box-sizing: border-box;text-align: center;}#sk-container-id-4 label.sk-toggleable__label-arrow:before {content: \"▸\";float: left;margin-right: 0.25em;color: #696969;}#sk-container-id-4 label.sk-toggleable__label-arrow:hover:before {color: black;}#sk-container-id-4 div.sk-estimator:hover label.sk-toggleable__label-arrow:before {color: black;}#sk-container-id-4 div.sk-toggleable__content {max-height: 0;max-width: 0;overflow: hidden;text-align: left;background-color: #f0f8ff;}#sk-container-id-4 div.sk-toggleable__content pre {margin: 0.2em;color: black;border-radius: 0.25em;background-color: #f0f8ff;}#sk-container-id-4 input.sk-toggleable__control:checked~div.sk-toggleable__content {max-height: 200px;max-width: 100%;overflow: auto;}#sk-container-id-4 input.sk-toggleable__control:checked~label.sk-toggleable__label-arrow:before {content: \"▾\";}#sk-container-id-4 div.sk-estimator input.sk-toggleable__control:checked~label.sk-toggleable__label {background-color: #d4ebff;}#sk-container-id-4 div.sk-label input.sk-toggleable__control:checked~label.sk-toggleable__label {background-color: #d4ebff;}#sk-container-id-4 input.sk-hidden--visually {border: 0;clip: rect(1px 1px 1px 1px);clip: rect(1px, 1px, 1px, 1px);height: 1px;margin: -1px;overflow: hidden;padding: 0;position: absolute;width: 1px;}#sk-container-id-4 div.sk-estimator {font-family: monospace;background-color: #f0f8ff;border: 1px dotted black;border-radius: 0.25em;box-sizing: border-box;margin-bottom: 0.5em;}#sk-container-id-4 div.sk-estimator:hover {background-color: #d4ebff;}#sk-container-id-4 div.sk-parallel-item::after {content: \"\";width: 100%;border-bottom: 1px solid gray;flex-grow: 1;}#sk-container-id-4 div.sk-label:hover label.sk-toggleable__label {background-color: #d4ebff;}#sk-container-id-4 div.sk-serial::before {content: \"\";position: absolute;border-left: 1px solid gray;box-sizing: border-box;top: 0;bottom: 0;left: 50%;z-index: 0;}#sk-container-id-4 div.sk-serial {display: flex;flex-direction: column;align-items: center;background-color: white;padding-right: 0.2em;padding-left: 0.2em;position: relative;}#sk-container-id-4 div.sk-item {position: relative;z-index: 1;}#sk-container-id-4 div.sk-parallel {display: flex;align-items: stretch;justify-content: center;background-color: white;position: relative;}#sk-container-id-4 div.sk-item::before, #sk-container-id-4 div.sk-parallel-item::before {content: \"\";position: absolute;border-left: 1px solid gray;box-sizing: border-box;top: 0;bottom: 0;left: 50%;z-index: -1;}#sk-container-id-4 div.sk-parallel-item {display: flex;flex-direction: column;z-index: 1;position: relative;background-color: white;}#sk-container-id-4 div.sk-parallel-item:first-child::after {align-self: flex-end;width: 50%;}#sk-container-id-4 div.sk-parallel-item:last-child::after {align-self: flex-start;width: 50%;}#sk-container-id-4 div.sk-parallel-item:only-child::after {width: 0;}#sk-container-id-4 div.sk-dashed-wrapped {border: 1px dashed gray;margin: 0 0.4em 0.5em 0.4em;box-sizing: border-box;padding-bottom: 0.4em;background-color: white;}#sk-container-id-4 div.sk-label label {font-family: monospace;font-weight: bold;display: inline-block;line-height: 1.2em;}#sk-container-id-4 div.sk-label-container {text-align: center;}#sk-container-id-4 div.sk-container {/* jupyter's `normalize.less` sets `[hidden] { display: none; }` but bootstrap.min.css set `[hidden] { display: none !important; }` so we also need the `!important` here to be able to override the default hidden behavior on the sphinx rendered scikit-learn.org. See: https://github.com/scikit-learn/scikit-learn/issues/21755 */display: inline-block !important;position: relative;}#sk-container-id-4 div.sk-text-repr-fallback {display: none;}</style><div id=\"sk-container-id-4\" class=\"sk-top-container\"><div class=\"sk-text-repr-fallback\"><pre>LinearRegression()</pre><b>In a Jupyter environment, please rerun this cell to show the HTML representation or trust the notebook. <br />On GitHub, the HTML representation is unable to render, please try loading this page with nbviewer.org.</b></div><div class=\"sk-container\" hidden><div class=\"sk-item\"><div class=\"sk-estimator sk-toggleable\"><input class=\"sk-toggleable__control sk-hidden--visually\" id=\"sk-estimator-id-4\" type=\"checkbox\" checked><label for=\"sk-estimator-id-4\" class=\"sk-toggleable__label sk-toggleable__label-arrow\">LinearRegression</label><div class=\"sk-toggleable__content\"><pre>LinearRegression()</pre></div></div></div></div></div>"
      ],
      "text/plain": [
       "LinearRegression()"
      ]
     },
     "execution_count": 109,
     "metadata": {},
     "output_type": "execute_result"
    }
   ],
   "source": [
    "LR3.fit(X_train,y_train)"
   ]
  },
  {
   "cell_type": "code",
   "execution_count": 110,
   "id": "1e41ed6a",
   "metadata": {},
   "outputs": [],
   "source": [
    "predict_train = LR3.predict(X_train)\n",
    "predict_test = LR3.predict(X_test)"
   ]
  },
  {
   "cell_type": "code",
   "execution_count": 111,
   "id": "22210044",
   "metadata": {},
   "outputs": [
    {
     "data": {
      "text/plain": [
       "0.6980253927357782"
      ]
     },
     "execution_count": 111,
     "metadata": {},
     "output_type": "execute_result"
    }
   ],
   "source": [
    "r2_score(y_train,predict_train)"
   ]
  },
  {
   "cell_type": "code",
   "execution_count": 112,
   "id": "e3927f1b",
   "metadata": {},
   "outputs": [
    {
     "data": {
      "text/plain": [
       "0.6656758823504968"
      ]
     },
     "execution_count": 112,
     "metadata": {},
     "output_type": "execute_result"
    }
   ],
   "source": [
    "r2_score(y_test,predict_test)"
   ]
  },
  {
   "cell_type": "markdown",
   "id": "bc0f3fde",
   "metadata": {},
   "source": [
    "We train another model based on the closest neighbors."
   ]
  },
  {
   "cell_type": "code",
   "execution_count": 113,
   "id": "d8aaf96f",
   "metadata": {},
   "outputs": [],
   "source": [
    "from sklearn.neighbors import KNeighborsClassifier"
   ]
  },
  {
   "cell_type": "code",
   "execution_count": 114,
   "id": "d86bc4a1",
   "metadata": {},
   "outputs": [],
   "source": [
    "knn = KNeighborsClassifier(n_neighbors = 50)"
   ]
  },
  {
   "cell_type": "code",
   "execution_count": 115,
   "id": "74bb4604",
   "metadata": {},
   "outputs": [
    {
     "data": {
      "text/html": [
       "<style>#sk-container-id-5 {color: black;background-color: white;}#sk-container-id-5 pre{padding: 0;}#sk-container-id-5 div.sk-toggleable {background-color: white;}#sk-container-id-5 label.sk-toggleable__label {cursor: pointer;display: block;width: 100%;margin-bottom: 0;padding: 0.3em;box-sizing: border-box;text-align: center;}#sk-container-id-5 label.sk-toggleable__label-arrow:before {content: \"▸\";float: left;margin-right: 0.25em;color: #696969;}#sk-container-id-5 label.sk-toggleable__label-arrow:hover:before {color: black;}#sk-container-id-5 div.sk-estimator:hover label.sk-toggleable__label-arrow:before {color: black;}#sk-container-id-5 div.sk-toggleable__content {max-height: 0;max-width: 0;overflow: hidden;text-align: left;background-color: #f0f8ff;}#sk-container-id-5 div.sk-toggleable__content pre {margin: 0.2em;color: black;border-radius: 0.25em;background-color: #f0f8ff;}#sk-container-id-5 input.sk-toggleable__control:checked~div.sk-toggleable__content {max-height: 200px;max-width: 100%;overflow: auto;}#sk-container-id-5 input.sk-toggleable__control:checked~label.sk-toggleable__label-arrow:before {content: \"▾\";}#sk-container-id-5 div.sk-estimator input.sk-toggleable__control:checked~label.sk-toggleable__label {background-color: #d4ebff;}#sk-container-id-5 div.sk-label input.sk-toggleable__control:checked~label.sk-toggleable__label {background-color: #d4ebff;}#sk-container-id-5 input.sk-hidden--visually {border: 0;clip: rect(1px 1px 1px 1px);clip: rect(1px, 1px, 1px, 1px);height: 1px;margin: -1px;overflow: hidden;padding: 0;position: absolute;width: 1px;}#sk-container-id-5 div.sk-estimator {font-family: monospace;background-color: #f0f8ff;border: 1px dotted black;border-radius: 0.25em;box-sizing: border-box;margin-bottom: 0.5em;}#sk-container-id-5 div.sk-estimator:hover {background-color: #d4ebff;}#sk-container-id-5 div.sk-parallel-item::after {content: \"\";width: 100%;border-bottom: 1px solid gray;flex-grow: 1;}#sk-container-id-5 div.sk-label:hover label.sk-toggleable__label {background-color: #d4ebff;}#sk-container-id-5 div.sk-serial::before {content: \"\";position: absolute;border-left: 1px solid gray;box-sizing: border-box;top: 0;bottom: 0;left: 50%;z-index: 0;}#sk-container-id-5 div.sk-serial {display: flex;flex-direction: column;align-items: center;background-color: white;padding-right: 0.2em;padding-left: 0.2em;position: relative;}#sk-container-id-5 div.sk-item {position: relative;z-index: 1;}#sk-container-id-5 div.sk-parallel {display: flex;align-items: stretch;justify-content: center;background-color: white;position: relative;}#sk-container-id-5 div.sk-item::before, #sk-container-id-5 div.sk-parallel-item::before {content: \"\";position: absolute;border-left: 1px solid gray;box-sizing: border-box;top: 0;bottom: 0;left: 50%;z-index: -1;}#sk-container-id-5 div.sk-parallel-item {display: flex;flex-direction: column;z-index: 1;position: relative;background-color: white;}#sk-container-id-5 div.sk-parallel-item:first-child::after {align-self: flex-end;width: 50%;}#sk-container-id-5 div.sk-parallel-item:last-child::after {align-self: flex-start;width: 50%;}#sk-container-id-5 div.sk-parallel-item:only-child::after {width: 0;}#sk-container-id-5 div.sk-dashed-wrapped {border: 1px dashed gray;margin: 0 0.4em 0.5em 0.4em;box-sizing: border-box;padding-bottom: 0.4em;background-color: white;}#sk-container-id-5 div.sk-label label {font-family: monospace;font-weight: bold;display: inline-block;line-height: 1.2em;}#sk-container-id-5 div.sk-label-container {text-align: center;}#sk-container-id-5 div.sk-container {/* jupyter's `normalize.less` sets `[hidden] { display: none; }` but bootstrap.min.css set `[hidden] { display: none !important; }` so we also need the `!important` here to be able to override the default hidden behavior on the sphinx rendered scikit-learn.org. See: https://github.com/scikit-learn/scikit-learn/issues/21755 */display: inline-block !important;position: relative;}#sk-container-id-5 div.sk-text-repr-fallback {display: none;}</style><div id=\"sk-container-id-5\" class=\"sk-top-container\"><div class=\"sk-text-repr-fallback\"><pre>KNeighborsClassifier(n_neighbors=50)</pre><b>In a Jupyter environment, please rerun this cell to show the HTML representation or trust the notebook. <br />On GitHub, the HTML representation is unable to render, please try loading this page with nbviewer.org.</b></div><div class=\"sk-container\" hidden><div class=\"sk-item\"><div class=\"sk-estimator sk-toggleable\"><input class=\"sk-toggleable__control sk-hidden--visually\" id=\"sk-estimator-id-5\" type=\"checkbox\" checked><label for=\"sk-estimator-id-5\" class=\"sk-toggleable__label sk-toggleable__label-arrow\">KNeighborsClassifier</label><div class=\"sk-toggleable__content\"><pre>KNeighborsClassifier(n_neighbors=50)</pre></div></div></div></div></div>"
      ],
      "text/plain": [
       "KNeighborsClassifier(n_neighbors=50)"
      ]
     },
     "execution_count": 115,
     "metadata": {},
     "output_type": "execute_result"
    }
   ],
   "source": [
    "knn.fit(X_train,y_train)"
   ]
  },
  {
   "cell_type": "code",
   "execution_count": 116,
   "id": "455b87aa",
   "metadata": {},
   "outputs": [],
   "source": [
    "predict_train_knn = knn.predict(X_train)\n",
    "predict_test_knn = knn.predict(X_test)"
   ]
  },
  {
   "cell_type": "code",
   "execution_count": 117,
   "id": "ff1403d3",
   "metadata": {},
   "outputs": [],
   "source": [
    "from sklearn.metrics import mean_squared_error"
   ]
  },
  {
   "cell_type": "code",
   "execution_count": 118,
   "id": "1e666f10",
   "metadata": {},
   "outputs": [],
   "source": [
    "MSE = mean_squared_error"
   ]
  },
  {
   "cell_type": "code",
   "execution_count": 119,
   "id": "9d5a7d97",
   "metadata": {},
   "outputs": [
    {
     "name": "stdout",
     "output_type": "stream",
     "text": [
      "307.1372013983806\n",
      "314.157348355532\n",
      "521.1535326086956\n",
      "568.5494028230185\n"
     ]
    }
   ],
   "source": [
    "print(MSE(predict_train,y_train))\n",
    "print(MSE(predict_test,y_test))\n",
    "\n",
    "print(MSE(predict_train_knn,y_train))\n",
    "print(MSE(predict_test_knn,y_test))"
   ]
  },
  {
   "cell_type": "markdown",
   "id": "51372894",
   "metadata": {},
   "source": [
    "Linear regression gives the best result. It is exported."
   ]
  },
  {
   "cell_type": "code",
   "execution_count": 120,
   "id": "1b08e1de",
   "metadata": {},
   "outputs": [],
   "source": [
    "with open('pricing.pkl','wb') as pricing:\n",
    "    pickle.dump(LR3,pricing)"
   ]
  },
  {
   "cell_type": "code",
   "execution_count": 121,
   "id": "07a32579",
   "metadata": {},
   "outputs": [],
   "source": [
    "with open('preprocessor.pkl','wb') as pre:\n",
    "    pickle.dump(preprocessor,pre)"
   ]
  },
  {
   "cell_type": "code",
   "execution_count": null,
   "id": "fccd6c2b",
   "metadata": {},
   "outputs": [],
   "source": []
  },
  {
   "cell_type": "code",
   "execution_count": null,
   "id": "6c0ce56d",
   "metadata": {},
   "outputs": [],
   "source": []
  }
 ],
 "metadata": {
  "kernelspec": {
   "display_name": "Python 3 (ipykernel)",
   "language": "python",
   "name": "python3"
  },
  "language_info": {
   "codemirror_mode": {
    "name": "ipython",
    "version": 3
   },
   "file_extension": ".py",
   "mimetype": "text/x-python",
   "name": "python",
   "nbconvert_exporter": "python",
   "pygments_lexer": "ipython3",
   "version": "3.9.12"
  }
 },
 "nbformat": 4,
 "nbformat_minor": 5
}
